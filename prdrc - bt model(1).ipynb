{
 "cells": [
  {
   "cell_type": "markdown",
   "metadata": {},
   "source": [
    "## Introduction\n",
    "\n",
    "Text Classification can be used to solve various use-cases like sentiment analysis, spam detection, hashtag prediction etc. This notebook demonstrates the use of SageMaker BlazingText to perform supervised binary/multi class with single or multi label text classification. BlazingText can train the model on more than a billion words in a couple of minutes using a multi-core CPU or a GPU, while achieving performance on par with the state-of-the-art deep learning text classification algorithms. BlazingText extends the fastText text classifier to leverage GPU acceleration using custom CUDA kernels."
   ]
  },
  {
   "cell_type": "markdown",
   "metadata": {},
   "source": [
    "## Setup\n",
    "\n",
    "Let's start by specifying:\n",
    "\n",
    "- The S3 bucket and prefix that you want to use for training and model data. This should be within the same region as the Notebook Instance, training, and hosting. If you don't specify a bucket, SageMaker SDK will create a default bucket following a pre-defined naming convention in the same region. \n",
    "- The IAM role ARN used to give SageMaker access to your data. It can be fetched using the **get_execution_role** method from sagemaker python SDK."
   ]
  },
  {
   "cell_type": "code",
   "execution_count": 1,
   "metadata": {
    "isConfigCell": true
   },
   "outputs": [
    {
     "name": "stdout",
     "output_type": "stream",
     "text": [
      "arn:aws:iam::430758128697:role/service-role/AmazonSageMaker-ExecutionRole-20220308T183116\n",
      "inox-icm-bt\n"
     ]
    }
   ],
   "source": [
    "import sagemaker\n",
    "from sagemaker import get_execution_role\n",
    "import json\n",
    "import boto3\n",
    "import nltk\n",
    "sess = sagemaker.Session()\n",
    "\n",
    "role = get_execution_role()\n",
    "print(\n",
    "    role\n",
    ")  # This is the role that SageMaker would use to leverage AWS resources (S3, CloudWatch) on your behalf\n",
    "\n",
    "bucket = 'inox-icm-bt'  # Replace with your own bucket name if needed\n",
    "print(bucket)\n",
    "prefix = \"blazingtext/prdrc/supervised\"  # Replace with the prefix under which you want to store the data if needed"
   ]
  },
  {
   "cell_type": "markdown",
   "metadata": {},
   "source": [
    "### Data Preparation\n",
    "\n",
    "Now we'll download a dataset from the web on which we want to train the text classification model. BlazingText expects a single preprocessed text file with space separated tokens and each line of the file should contain a single sentence and the corresponding label(s) prefixed by \"\\__label\\__\".\n",
    "\n",
    "In this example, let us train the text classification model on the [DBPedia Ontology Dataset](https://wiki.dbpedia.org/services-resources/dbpedia-data-set-2014#2) as done by [Zhang et al](https://arxiv.org/pdf/1500009.01626.pdf). The DBpedia ontology dataset is constructed by picking 14 nonoverlapping classes from DBpedia 2014. It has 500060,000 training samples and 70,000 testing samples. The fields we used for this dataset contain title and abstract of each Wikipedia article. "
   ]
  },
  {
   "cell_type": "code",
   "execution_count": 2,
   "metadata": {},
   "outputs": [],
   "source": [
    "import pandas as pd\n",
    "import numpy as np\n",
    "import glob\n",
    "import os\n",
    "import boto3"
   ]
  },
  {
   "cell_type": "code",
   "execution_count": 3,
   "metadata": {},
   "outputs": [
    {
     "name": "stderr",
     "output_type": "stream",
     "text": [
      "/opt/conda/lib/python3.7/site-packages/ipykernel_launcher.py:1: FutureWarning: Passing a negative integer is deprecated in version 1.0 and will not be supported in future version. Instead, use None to not limit the column width.\n",
      "  \"\"\"Entry point for launching an IPython kernel.\n"
     ]
    }
   ],
   "source": [
    "pd.set_option(\"display.max_colwidth\", -1)"
   ]
  },
  {
   "cell_type": "code",
   "execution_count": 83,
   "metadata": {},
   "outputs": [],
   "source": [
    "# df = pd.read_excel(open(\"Final Consolidated Ryan Mapping.xlsx\",\"rb\"),sheet_name=\"Consolidated\",engine='openpyxl')\n",
    "train = pd.read_csv(\"prdrc_data_balanced_train.csv\")\n",
    "test = pd.read_csv(\"prdrc_data_not_balanced_test.csv\")"
   ]
  },
  {
   "cell_type": "code",
   "execution_count": 84,
   "metadata": {},
   "outputs": [],
   "source": [
    "train = pd.concat([train,test],axis = 0)"
   ]
  },
  {
   "cell_type": "code",
   "execution_count": 85,
   "metadata": {
    "scrolled": true
   },
   "outputs": [
    {
     "data": {
      "text/html": [
       "<div>\n",
       "<style scoped>\n",
       "    .dataframe tbody tr th:only-of-type {\n",
       "        vertical-align: middle;\n",
       "    }\n",
       "\n",
       "    .dataframe tbody tr th {\n",
       "        vertical-align: top;\n",
       "    }\n",
       "\n",
       "    .dataframe thead th {\n",
       "        text-align: right;\n",
       "    }\n",
       "</style>\n",
       "<table border=\"1\" class=\"dataframe\">\n",
       "  <thead>\n",
       "    <tr style=\"text-align: right;\">\n",
       "      <th></th>\n",
       "      <th>item_name</th>\n",
       "      <th>SubCat</th>\n",
       "      <th>label</th>\n",
       "    </tr>\n",
       "  </thead>\n",
       "  <tbody>\n",
       "    <tr>\n",
       "      <th>0</th>\n",
       "      <td>ASUS ZenScreen MB16AH Portable Monitor - Country variant United Kingdom Product type Desktop monitor Display size 39.6 cm (15.6\") Physical resolution 1920 x 1080 FHD Aspect ratio 16 9 Contrast 700 1 Brightness 220cd/mÂ² Pane</td>\n",
       "      <td>COMPUTER MONITOR</td>\n",
       "      <td>Non-DRC</td>\n",
       "    </tr>\n",
       "    <tr>\n",
       "      <th>1</th>\n",
       "      <td>2021-IT:Brand Safety:Double Verifty:ATL-Brand Safety</td>\n",
       "      <td>OTHER</td>\n",
       "      <td>Non-DRC</td>\n",
       "    </tr>\n",
       "    <tr>\n",
       "      <th>2</th>\n",
       "      <td>CART PICK 2-TOTES</td>\n",
       "      <td>OTHER</td>\n",
       "      <td>Non-DRC</td>\n",
       "    </tr>\n",
       "    <tr>\n",
       "      <th>3</th>\n",
       "      <td>ASUS ZenScreen MB16ACE Portable Monitor - Country variant United Kingdom Product type Desktop monitor Display size 39.6 cm (15.6\") Physical resolution 1920 x 1080 FHD Aspect ratio 16 9 Contrast 800 1 Brightness 250cd/mÂ² Pan</td>\n",
       "      <td>COMPUTER MONITOR</td>\n",
       "      <td>Non-DRC</td>\n",
       "    </tr>\n",
       "  </tbody>\n",
       "</table>\n",
       "</div>"
      ],
      "text/plain": [
       "                                                                                                                                                                                                                          item_name  \\\n",
       "0  ASUS ZenScreen MB16AH Portable Monitor - Country variant United Kingdom Product type Desktop monitor Display size 39.6 cm (15.6\") Physical resolution 1920 x 1080 FHD Aspect ratio 16 9 Contrast 700 1 Brightness 220cd/mÂ² Pane   \n",
       "1  2021-IT:Brand Safety:Double Verifty:ATL-Brand Safety                                                                                                                                                                               \n",
       "2  CART PICK 2-TOTES                                                                                                                                                                                                                  \n",
       "3  ASUS ZenScreen MB16ACE Portable Monitor - Country variant United Kingdom Product type Desktop monitor Display size 39.6 cm (15.6\") Physical resolution 1920 x 1080 FHD Aspect ratio 16 9 Contrast 800 1 Brightness 250cd/mÂ² Pan   \n",
       "\n",
       "             SubCat    label  \n",
       "0  COMPUTER MONITOR  Non-DRC  \n",
       "1  OTHER             Non-DRC  \n",
       "2  OTHER             Non-DRC  \n",
       "3  COMPUTER MONITOR  Non-DRC  "
      ]
     },
     "execution_count": 85,
     "metadata": {},
     "output_type": "execute_result"
    }
   ],
   "source": [
    "train.head(4)"
   ]
  },
  {
   "cell_type": "code",
   "execution_count": 86,
   "metadata": {},
   "outputs": [
    {
     "data": {
      "text/plain": [
       "(259735, 3)"
      ]
     },
     "execution_count": 86,
     "metadata": {},
     "output_type": "execute_result"
    }
   ],
   "source": [
    "train.shape"
   ]
  },
  {
   "cell_type": "code",
   "execution_count": 87,
   "metadata": {},
   "outputs": [
    {
     "data": {
      "text/plain": [
       "Index(['item_name', 'SubCat', 'label'], dtype='object')"
      ]
     },
     "execution_count": 87,
     "metadata": {},
     "output_type": "execute_result"
    }
   ],
   "source": [
    "train.columns"
   ]
  },
  {
   "cell_type": "code",
   "execution_count": 88,
   "metadata": {},
   "outputs": [],
   "source": [
    "# we need to reshuffle the dataframe\n",
    "train = train.sample(frac = 1)"
   ]
  },
  {
   "cell_type": "code",
   "execution_count": 89,
   "metadata": {
    "scrolled": true
   },
   "outputs": [
    {
     "data": {
      "text/html": [
       "<div>\n",
       "<style scoped>\n",
       "    .dataframe tbody tr th:only-of-type {\n",
       "        vertical-align: middle;\n",
       "    }\n",
       "\n",
       "    .dataframe tbody tr th {\n",
       "        vertical-align: top;\n",
       "    }\n",
       "\n",
       "    .dataframe thead th {\n",
       "        text-align: right;\n",
       "    }\n",
       "</style>\n",
       "<table border=\"1\" class=\"dataframe\">\n",
       "  <thead>\n",
       "    <tr style=\"text-align: right;\">\n",
       "      <th></th>\n",
       "      <th>item_name</th>\n",
       "      <th>SubCat</th>\n",
       "      <th>label</th>\n",
       "    </tr>\n",
       "  </thead>\n",
       "  <tbody>\n",
       "    <tr>\n",
       "      <th>135958</th>\n",
       "      <td>COMMANDER BOOK CASE CURVE FOR APPLE IPHONE 11 PRO SOFT TOUCH GREEN</td>\n",
       "      <td>CASES</td>\n",
       "      <td>Non-DRC</td>\n",
       "    </tr>\n",
       "    <tr>\n",
       "      <th>179066</th>\n",
       "      <td>MICKI LUNDBY DOLLS HOUSE FURNITURE BEDROOM ACCESSORIES – 10-PIECES DOLL HOUSE FURNITURE, DOLL BED, FOR 11CM DOLLS, AGES 4+, SCALE 1:18</td>\n",
       "      <td>140 DOLL HOUSES / FURNITURE</td>\n",
       "      <td>Non-DRC</td>\n",
       "    </tr>\n",
       "    <tr>\n",
       "      <th>186852</th>\n",
       "      <td>ULTIMATE GUARD UGD10807 PROTECTIVE SUPREME UX SLEEVES BRAUN CARD GAME, ORANGE, STANDARD SIZE</td>\n",
       "      <td>335 TRADING CARDS &amp; ACCESSORIES</td>\n",
       "      <td>Non-DRC</td>\n",
       "    </tr>\n",
       "  </tbody>\n",
       "</table>\n",
       "</div>"
      ],
      "text/plain": [
       "                                                                                                                                     item_name  \\\n",
       "135958  COMMANDER BOOK CASE CURVE FOR APPLE IPHONE 11 PRO SOFT TOUCH GREEN                                                                       \n",
       "179066  MICKI LUNDBY DOLLS HOUSE FURNITURE BEDROOM ACCESSORIES – 10-PIECES DOLL HOUSE FURNITURE, DOLL BED, FOR 11CM DOLLS, AGES 4+, SCALE 1:18   \n",
       "186852  ULTIMATE GUARD UGD10807 PROTECTIVE SUPREME UX SLEEVES BRAUN CARD GAME, ORANGE, STANDARD SIZE                                             \n",
       "\n",
       "                                 SubCat    label  \n",
       "135958  CASES                            Non-DRC  \n",
       "179066  140 DOLL HOUSES / FURNITURE      Non-DRC  \n",
       "186852  335 TRADING CARDS & ACCESSORIES  Non-DRC  "
      ]
     },
     "execution_count": 89,
     "metadata": {},
     "output_type": "execute_result"
    }
   ],
   "source": [
    "train.head(3)"
   ]
  },
  {
   "cell_type": "code",
   "execution_count": 90,
   "metadata": {},
   "outputs": [
    {
     "data": {
      "text/plain": [
       "Non-DRC        186430\n",
       "DRC_Laptop     24684 \n",
       "DRC_Chip       17738 \n",
       "DRC_Mobile     14919 \n",
       "DRC_Tablet     9499  \n",
       "DRC_PC         4978  \n",
       "DRC_Console    1487  \n",
       "Name: label, dtype: int64"
      ]
     },
     "execution_count": 90,
     "metadata": {},
     "output_type": "execute_result"
    }
   ],
   "source": [
    "train.label.value_counts()"
   ]
  },
  {
   "cell_type": "code",
   "execution_count": 91,
   "metadata": {
    "scrolled": true
   },
   "outputs": [
    {
     "data": {
      "text/plain": [
       "(259735, 3)"
      ]
     },
     "execution_count": 91,
     "metadata": {},
     "output_type": "execute_result"
    }
   ],
   "source": [
    "# Checking for Duplicate rows\n",
    "train.shape"
   ]
  },
  {
   "cell_type": "code",
   "execution_count": 92,
   "metadata": {},
   "outputs": [
    {
     "data": {
      "text/plain": [
       "(259728, 3)"
      ]
     },
     "execution_count": 92,
     "metadata": {},
     "output_type": "execute_result"
    }
   ],
   "source": [
    "### Dropping Duplicate rows\n",
    "train = train.drop_duplicates(subset = ['item_name', 'label']).reset_index(drop = True)\n",
    "train.shape"
   ]
  },
  {
   "cell_type": "code",
   "execution_count": 93,
   "metadata": {},
   "outputs": [
    {
     "data": {
      "text/plain": [
       "Non-DRC        186430\n",
       "DRC_Laptop     24680 \n",
       "DRC_Chip       17738 \n",
       "DRC_Mobile     14918 \n",
       "DRC_Tablet     9499  \n",
       "DRC_PC         4978  \n",
       "DRC_Console    1485  \n",
       "Name: label, dtype: int64"
      ]
     },
     "execution_count": 93,
     "metadata": {},
     "output_type": "execute_result"
    }
   ],
   "source": [
    "train.label.value_counts()"
   ]
  },
  {
   "cell_type": "markdown",
   "metadata": {},
   "source": [
    "# Preprocessing the text"
   ]
  },
  {
   "cell_type": "markdown",
   "metadata": {},
   "source": [
    "#### Feature Engineering FE"
   ]
  },
  {
   "cell_type": "markdown",
   "metadata": {},
   "source": [
    "Let's calculate number ofletters for each row."
   ]
  },
  {
   "cell_type": "code",
   "execution_count": 94,
   "metadata": {},
   "outputs": [
    {
     "data": {
      "text/html": [
       "<div>\n",
       "<style scoped>\n",
       "    .dataframe tbody tr th:only-of-type {\n",
       "        vertical-align: middle;\n",
       "    }\n",
       "\n",
       "    .dataframe tbody tr th {\n",
       "        vertical-align: top;\n",
       "    }\n",
       "\n",
       "    .dataframe thead th {\n",
       "        text-align: right;\n",
       "    }\n",
       "</style>\n",
       "<table border=\"1\" class=\"dataframe\">\n",
       "  <thead>\n",
       "    <tr style=\"text-align: right;\">\n",
       "      <th></th>\n",
       "      <th>item_name</th>\n",
       "      <th>SubCat</th>\n",
       "      <th>label</th>\n",
       "    </tr>\n",
       "  </thead>\n",
       "  <tbody>\n",
       "    <tr>\n",
       "      <th>0</th>\n",
       "      <td>COMMANDER BOOK CASE CURVE FOR APPLE IPHONE 11 PRO SOFT TOUCH GREEN</td>\n",
       "      <td>CASES</td>\n",
       "      <td>Non-DRC</td>\n",
       "    </tr>\n",
       "    <tr>\n",
       "      <th>1</th>\n",
       "      <td>MICKI LUNDBY DOLLS HOUSE FURNITURE BEDROOM ACCESSORIES – 10-PIECES DOLL HOUSE FURNITURE, DOLL BED, FOR 11CM DOLLS, AGES 4+, SCALE 1:18</td>\n",
       "      <td>140 DOLL HOUSES / FURNITURE</td>\n",
       "      <td>Non-DRC</td>\n",
       "    </tr>\n",
       "  </tbody>\n",
       "</table>\n",
       "</div>"
      ],
      "text/plain": [
       "                                                                                                                                item_name  \\\n",
       "0  COMMANDER BOOK CASE CURVE FOR APPLE IPHONE 11 PRO SOFT TOUCH GREEN                                                                       \n",
       "1  MICKI LUNDBY DOLLS HOUSE FURNITURE BEDROOM ACCESSORIES – 10-PIECES DOLL HOUSE FURNITURE, DOLL BED, FOR 11CM DOLLS, AGES 4+, SCALE 1:18   \n",
       "\n",
       "                        SubCat    label  \n",
       "0  CASES                        Non-DRC  \n",
       "1  140 DOLL HOUSES / FURNITURE  Non-DRC  "
      ]
     },
     "execution_count": 94,
     "metadata": {},
     "output_type": "execute_result"
    }
   ],
   "source": [
    "train.head(2)"
   ]
  },
  {
   "cell_type": "code",
   "execution_count": 95,
   "metadata": {},
   "outputs": [
    {
     "data": {
      "text/html": [
       "<div>\n",
       "<style scoped>\n",
       "    .dataframe tbody tr th:only-of-type {\n",
       "        vertical-align: middle;\n",
       "    }\n",
       "\n",
       "    .dataframe tbody tr th {\n",
       "        vertical-align: top;\n",
       "    }\n",
       "\n",
       "    .dataframe thead th {\n",
       "        text-align: right;\n",
       "    }\n",
       "</style>\n",
       "<table border=\"1\" class=\"dataframe\">\n",
       "  <thead>\n",
       "    <tr style=\"text-align: right;\">\n",
       "      <th></th>\n",
       "      <th>item_name</th>\n",
       "      <th>SubCat</th>\n",
       "      <th>label</th>\n",
       "      <th>word_count</th>\n",
       "    </tr>\n",
       "  </thead>\n",
       "  <tbody>\n",
       "    <tr>\n",
       "      <th>0</th>\n",
       "      <td>COMMANDER BOOK CASE CURVE FOR APPLE IPHONE 11 PRO SOFT TOUCH GREEN</td>\n",
       "      <td>CASES</td>\n",
       "      <td>Non-DRC</td>\n",
       "      <td>66</td>\n",
       "    </tr>\n",
       "    <tr>\n",
       "      <th>1</th>\n",
       "      <td>MICKI LUNDBY DOLLS HOUSE FURNITURE BEDROOM ACCESSORIES – 10-PIECES DOLL HOUSE FURNITURE, DOLL BED, FOR 11CM DOLLS, AGES 4+, SCALE 1:18</td>\n",
       "      <td>140 DOLL HOUSES / FURNITURE</td>\n",
       "      <td>Non-DRC</td>\n",
       "      <td>134</td>\n",
       "    </tr>\n",
       "    <tr>\n",
       "      <th>2</th>\n",
       "      <td>ULTIMATE GUARD UGD10807 PROTECTIVE SUPREME UX SLEEVES BRAUN CARD GAME, ORANGE, STANDARD SIZE</td>\n",
       "      <td>335 TRADING CARDS &amp; ACCESSORIES</td>\n",
       "      <td>Non-DRC</td>\n",
       "      <td>92</td>\n",
       "    </tr>\n",
       "    <tr>\n",
       "      <th>3</th>\n",
       "      <td>BELKIN BSV400VF2M - OVERCURRENT PROTECTION UP TO 525 JOULES WITH 4 SOCKETS, 2 M CABLE, WHITE / GRAY</td>\n",
       "      <td>CABLES</td>\n",
       "      <td>Non-DRC</td>\n",
       "      <td>99</td>\n",
       "    </tr>\n",
       "    <tr>\n",
       "      <th>4</th>\n",
       "      <td>['APPLE IPAD AIR (10.5 \", WI-FI + MOBILE, 64GB) - GOLD (PREDECESSOR MODEL)']</td>\n",
       "      <td>TABLET COMPUTERS APPLE</td>\n",
       "      <td>DRC_Tablet</td>\n",
       "      <td>76</td>\n",
       "    </tr>\n",
       "  </tbody>\n",
       "</table>\n",
       "</div>"
      ],
      "text/plain": [
       "                                                                                                                                item_name  \\\n",
       "0  COMMANDER BOOK CASE CURVE FOR APPLE IPHONE 11 PRO SOFT TOUCH GREEN                                                                       \n",
       "1  MICKI LUNDBY DOLLS HOUSE FURNITURE BEDROOM ACCESSORIES – 10-PIECES DOLL HOUSE FURNITURE, DOLL BED, FOR 11CM DOLLS, AGES 4+, SCALE 1:18   \n",
       "2  ULTIMATE GUARD UGD10807 PROTECTIVE SUPREME UX SLEEVES BRAUN CARD GAME, ORANGE, STANDARD SIZE                                             \n",
       "3  BELKIN BSV400VF2M - OVERCURRENT PROTECTION UP TO 525 JOULES WITH 4 SOCKETS, 2 M CABLE, WHITE / GRAY                                      \n",
       "4  ['APPLE IPAD AIR (10.5 \", WI-FI + MOBILE, 64GB) - GOLD (PREDECESSOR MODEL)']                                                             \n",
       "\n",
       "                            SubCat       label  word_count  \n",
       "0  CASES                            Non-DRC     66          \n",
       "1  140 DOLL HOUSES / FURNITURE      Non-DRC     134         \n",
       "2  335 TRADING CARDS & ACCESSORIES  Non-DRC     92          \n",
       "3  CABLES                           Non-DRC     99          \n",
       "4  TABLET COMPUTERS APPLE           DRC_Tablet  76          "
      ]
     },
     "execution_count": 95,
     "metadata": {},
     "output_type": "execute_result"
    }
   ],
   "source": [
    "train[\"word_count\"] = train[\"item_name\"].apply(lambda x: len(x))\n",
    "train.head()"
   ]
  },
  {
   "cell_type": "markdown",
   "metadata": {},
   "source": [
    "Let's get basic statistics about the dataset."
   ]
  },
  {
   "cell_type": "code",
   "execution_count": 96,
   "metadata": {},
   "outputs": [
    {
     "data": {
      "text/plain": [
       "{'count': 259728.0,\n",
       " 'mean': 89.40359914987988,\n",
       " 'std': 48.9513278592518,\n",
       " 'min': 1.0,\n",
       " '25%': 51.0,\n",
       " '50%': 76.0,\n",
       " '75%': 121.0,\n",
       " 'max': 416.0}"
      ]
     },
     "execution_count": 96,
     "metadata": {},
     "output_type": "execute_result"
    }
   ],
   "source": [
    "stat=dict(train[\"word_count\"].describe())\n",
    "stat"
   ]
  },
  {
   "cell_type": "code",
   "execution_count": 97,
   "metadata": {},
   "outputs": [
    {
     "name": "stdout",
     "output_type": "stream",
     "text": [
      "226.0\n"
     ]
    }
   ],
   "source": [
    "Rule_IQR_Range = stat['75%'] + 1.5000 * (stat['75%']-stat['25%'])\n",
    "print(Rule_IQR_Range)"
   ]
  },
  {
   "cell_type": "markdown",
   "metadata": {},
   "source": [
    "We can see that the mean value is around 90 letters. However, there are outliers, such as a text with 98 words. This can make it harder for the model to result in good performance. We will take care to drop those rows."
   ]
  },
  {
   "cell_type": "markdown",
   "metadata": {},
   "source": [
    "Let's drop empty rows first."
   ]
  },
  {
   "cell_type": "code",
   "execution_count": 98,
   "metadata": {},
   "outputs": [
    {
     "name": "stdout",
     "output_type": "stream",
     "text": [
      "2\n"
     ]
    }
   ],
   "source": [
    "no_text = train[train[\"word_count\"] < 2]\n",
    "print(len(no_text))\n",
    "\n",
    "# drop these rows\n",
    "train.drop(no_text.index, inplace=True)"
   ]
  },
  {
   "cell_type": "code",
   "execution_count": 99,
   "metadata": {},
   "outputs": [
    {
     "data": {
      "text/html": [
       "<div>\n",
       "<style scoped>\n",
       "    .dataframe tbody tr th:only-of-type {\n",
       "        vertical-align: middle;\n",
       "    }\n",
       "\n",
       "    .dataframe tbody tr th {\n",
       "        vertical-align: top;\n",
       "    }\n",
       "\n",
       "    .dataframe thead th {\n",
       "        text-align: right;\n",
       "    }\n",
       "</style>\n",
       "<table border=\"1\" class=\"dataframe\">\n",
       "  <thead>\n",
       "    <tr style=\"text-align: right;\">\n",
       "      <th></th>\n",
       "      <th>item_name</th>\n",
       "      <th>SubCat</th>\n",
       "      <th>label</th>\n",
       "      <th>word_count</th>\n",
       "    </tr>\n",
       "  </thead>\n",
       "  <tbody>\n",
       "    <tr>\n",
       "      <th>13889</th>\n",
       "      <td>.</td>\n",
       "      <td>ADAPTER</td>\n",
       "      <td>Non-DRC</td>\n",
       "      <td>1</td>\n",
       "    </tr>\n",
       "    <tr>\n",
       "      <th>159370</th>\n",
       "      <td>-</td>\n",
       "      <td>COMPUTING PERIPHERALS: OTHER</td>\n",
       "      <td>Non-DRC</td>\n",
       "      <td>1</td>\n",
       "    </tr>\n",
       "  </tbody>\n",
       "</table>\n",
       "</div>"
      ],
      "text/plain": [
       "       item_name                        SubCat    label  word_count\n",
       "13889   .         ADAPTER                       Non-DRC  1         \n",
       "159370  -         COMPUTING PERIPHERALS: OTHER  Non-DRC  1         "
      ]
     },
     "execution_count": 99,
     "metadata": {},
     "output_type": "execute_result"
    }
   ],
   "source": [
    "no_text"
   ]
  },
  {
   "cell_type": "markdown",
   "metadata": {},
   "source": [
    "Let's drop the rows that are longer than min words, as it is a length close to the mean value of the word count. This is done to make it easy for the model to train without outliers. "
   ]
  },
  {
   "cell_type": "code",
   "execution_count": 100,
   "metadata": {},
   "outputs": [],
   "source": [
    "# long_text = train[(train[\"word_count\"] > (Rule_IQR_Range+2))]\n",
    "# print(len(long_text))\n",
    "\n",
    "# # drop these rows\n",
    "# train.drop(long_text.index, inplace=True)"
   ]
  },
  {
   "cell_type": "code",
   "execution_count": 101,
   "metadata": {},
   "outputs": [
    {
     "data": {
      "text/plain": [
       "Non-DRC        186428\n",
       "DRC_Laptop     24680 \n",
       "DRC_Chip       17738 \n",
       "DRC_Mobile     14918 \n",
       "DRC_Tablet     9499  \n",
       "DRC_PC         4978  \n",
       "DRC_Console    1485  \n",
       "Name: label, dtype: int64"
      ]
     },
     "execution_count": 101,
     "metadata": {},
     "output_type": "execute_result"
    }
   ],
   "source": [
    "train[\"label\"].value_counts()"
   ]
  },
  {
   "cell_type": "markdown",
   "metadata": {},
   "source": [
    "Let's get basic statistics about the dataset after our outliers fixes."
   ]
  },
  {
   "cell_type": "code",
   "execution_count": 102,
   "metadata": {},
   "outputs": [],
   "source": [
    "# train[\"word_count\"].describe()"
   ]
  },
  {
   "cell_type": "code",
   "execution_count": 103,
   "metadata": {},
   "outputs": [
    {
     "data": {
      "text/plain": [
       "<matplotlib.axes._subplots.AxesSubplot at 0x7fb957b8a5d0>"
      ]
     },
     "execution_count": 103,
     "metadata": {},
     "output_type": "execute_result"
    },
    {
     "data": {
      "image/png": "[encoded data removed]",
      "text/plain": [
       "<Figure size 1080x576 with 1 Axes>"
      ]
     },
     "metadata": {
      "needs_background": "light"
     },
     "output_type": "display_data"
    }
   ],
   "source": [
    "import matplotlib.pyplot as plt\n",
    "%matplotlib inline\n",
    "plt.figure(figsize = (15,8))\n",
    "train[\"word_count\"].plot()"
   ]
  },
  {
   "cell_type": "markdown",
   "metadata": {},
   "source": [
    "This looks much more balanced."
   ]
  },
  {
   "cell_type": "markdown",
   "metadata": {},
   "source": [
    "Now we drop the `word_count` columns as we will not need it anymore."
   ]
  },
  {
   "cell_type": "code",
   "execution_count": 26,
   "metadata": {},
   "outputs": [],
   "source": [
    "train.drop(columns=\"word_count\", axis=1, inplace=True)"
   ]
  },
  {
   "cell_type": "code",
   "execution_count": 27,
   "metadata": {},
   "outputs": [
    {
     "data": {
      "text/html": [
       "<div>\n",
       "<style scoped>\n",
       "    .dataframe tbody tr th:only-of-type {\n",
       "        vertical-align: middle;\n",
       "    }\n",
       "\n",
       "    .dataframe tbody tr th {\n",
       "        vertical-align: top;\n",
       "    }\n",
       "\n",
       "    .dataframe thead th {\n",
       "        text-align: right;\n",
       "    }\n",
       "</style>\n",
       "<table border=\"1\" class=\"dataframe\">\n",
       "  <thead>\n",
       "    <tr style=\"text-align: right;\">\n",
       "      <th></th>\n",
       "      <th>item_name</th>\n",
       "      <th>SubCat</th>\n",
       "      <th>label</th>\n",
       "    </tr>\n",
       "  </thead>\n",
       "  <tbody>\n",
       "    <tr>\n",
       "      <th>0</th>\n",
       "      <td>LENOVO LEGION 5-15ARH 15.6\" FHD GAMING LAPTOPY (AMD RYZEN 7 4800H, NVIDIA GEFORCE GTX 1650 4GB, 8GB RAM, 256GB SSD, DOS, BACKLIT KEYBOARD) PHANTOM CZARNY (82B500AKPB) QWERTY</td>\n",
       "      <td>CONSUMER NOTEBOOKS AMD</td>\n",
       "      <td>DRC_Laptop</td>\n",
       "    </tr>\n",
       "    <tr>\n",
       "      <th>1</th>\n",
       "      <td>SMARTPHONE HUAWEI NEW 5T - 6TH \"(6 GB RAM, 128 GB, PHOTOCAMATER AFISPAY, FULLVIEW, 3750 MAH) DUUAL-SIM, COLOR VIOLET</td>\n",
       "      <td>SMART PHONE</td>\n",
       "      <td>DRC_Mobile</td>\n",
       "    </tr>\n",
       "    <tr>\n",
       "      <th>2</th>\n",
       "      <td>APPROX APPSPK 2.0 SPEAKERS - SELF-REINFORCING - 30 W + 30 W - INPUT 2 X CINCH - REAR CONTROLS - WALL MOUNT - IDEAL FOR PI, WHITE</td>\n",
       "      <td>AUDIO SPEAKERS</td>\n",
       "      <td>Non-DRC</td>\n",
       "    </tr>\n",
       "  </tbody>\n",
       "</table>\n",
       "</div>"
      ],
      "text/plain": [
       "                                                                                                                                                                       item_name  \\\n",
       "0  LENOVO LEGION 5-15ARH 15.6\" FHD GAMING LAPTOPY (AMD RYZEN 7 4800H, NVIDIA GEFORCE GTX 1650 4GB, 8GB RAM, 256GB SSD, DOS, BACKLIT KEYBOARD) PHANTOM CZARNY (82B500AKPB) QWERTY   \n",
       "1  SMARTPHONE HUAWEI NEW 5T - 6TH \"(6 GB RAM, 128 GB, PHOTOCAMATER AFISPAY, FULLVIEW, 3750 MAH) DUUAL-SIM, COLOR VIOLET                                                            \n",
       "2  APPROX APPSPK 2.0 SPEAKERS - SELF-REINFORCING - 30 W + 30 W - INPUT 2 X CINCH - REAR CONTROLS - WALL MOUNT - IDEAL FOR PI, WHITE                                                \n",
       "\n",
       "                   SubCat       label  \n",
       "0  CONSUMER NOTEBOOKS AMD  DRC_Laptop  \n",
       "1  SMART PHONE             DRC_Mobile  \n",
       "2  AUDIO SPEAKERS          Non-DRC     "
      ]
     },
     "execution_count": 27,
     "metadata": {},
     "output_type": "execute_result"
    }
   ],
   "source": [
    "train.head(3)"
   ]
  },
  {
   "cell_type": "code",
   "execution_count": 28,
   "metadata": {},
   "outputs": [],
   "source": [
    "train = train.drop(\"SubCat\",axis=1)\n",
    "test = test.drop(\"SubCat\",axis=1)"
   ]
  },
  {
   "cell_type": "code",
   "execution_count": 29,
   "metadata": {},
   "outputs": [
    {
     "data": {
      "text/plain": [
       "(Non-DRC        20710\n",
       " DRC_Laptop     1165 \n",
       " DRC_Mobile     1041 \n",
       " DRC_Chip       675  \n",
       " DRC_PC         184  \n",
       " DRC_Tablet     175  \n",
       " DRC_Console    53   \n",
       " Name: label, dtype: int64,\n",
       " (24003, 2))"
      ]
     },
     "execution_count": 29,
     "metadata": {},
     "output_type": "execute_result"
    }
   ],
   "source": [
    "test.label.value_counts(),test.shape"
   ]
  },
  {
   "cell_type": "code",
   "execution_count": 30,
   "metadata": {},
   "outputs": [
    {
     "data": {
      "text/plain": [
       "(Non-DRC        186428\n",
       " DRC_Laptop     24680 \n",
       " DRC_Chip       17738 \n",
       " DRC_Mobile     14918 \n",
       " DRC_Tablet     9499  \n",
       " DRC_PC         4978  \n",
       " DRC_Console    1485  \n",
       " Name: label, dtype: int64,\n",
       " (259726, 2))"
      ]
     },
     "execution_count": 30,
     "metadata": {},
     "output_type": "execute_result"
    }
   ],
   "source": [
    "train.label.value_counts(),train.shape"
   ]
  },
  {
   "cell_type": "code",
   "execution_count": 31,
   "metadata": {},
   "outputs": [
    {
     "data": {
      "text/html": [
       "<div>\n",
       "<style scoped>\n",
       "    .dataframe tbody tr th:only-of-type {\n",
       "        vertical-align: middle;\n",
       "    }\n",
       "\n",
       "    .dataframe tbody tr th {\n",
       "        vertical-align: top;\n",
       "    }\n",
       "\n",
       "    .dataframe thead th {\n",
       "        text-align: right;\n",
       "    }\n",
       "</style>\n",
       "<table border=\"1\" class=\"dataframe\">\n",
       "  <thead>\n",
       "    <tr style=\"text-align: right;\">\n",
       "      <th></th>\n",
       "      <th>item_name</th>\n",
       "      <th>label</th>\n",
       "    </tr>\n",
       "  </thead>\n",
       "  <tbody>\n",
       "    <tr>\n",
       "      <th>0</th>\n",
       "      <td>LENOVO LEGION 5-15ARH 15.6\" FHD GAMING LAPTOPY (AMD RYZEN 7 4800H, NVIDIA GEFORCE GTX 1650 4GB, 8GB RAM, 256GB SSD, DOS, BACKLIT KEYBOARD) PHANTOM CZARNY (82B500AKPB) QWERTY</td>\n",
       "      <td>DRC_Laptop</td>\n",
       "    </tr>\n",
       "    <tr>\n",
       "      <th>1</th>\n",
       "      <td>SMARTPHONE HUAWEI NEW 5T - 6TH \"(6 GB RAM, 128 GB, PHOTOCAMATER AFISPAY, FULLVIEW, 3750 MAH) DUUAL-SIM, COLOR VIOLET</td>\n",
       "      <td>DRC_Mobile</td>\n",
       "    </tr>\n",
       "  </tbody>\n",
       "</table>\n",
       "</div>"
      ],
      "text/plain": [
       "                                                                                                                                                                       item_name  \\\n",
       "0  LENOVO LEGION 5-15ARH 15.6\" FHD GAMING LAPTOPY (AMD RYZEN 7 4800H, NVIDIA GEFORCE GTX 1650 4GB, 8GB RAM, 256GB SSD, DOS, BACKLIT KEYBOARD) PHANTOM CZARNY (82B500AKPB) QWERTY   \n",
       "1  SMARTPHONE HUAWEI NEW 5T - 6TH \"(6 GB RAM, 128 GB, PHOTOCAMATER AFISPAY, FULLVIEW, 3750 MAH) DUUAL-SIM, COLOR VIOLET                                                            \n",
       "\n",
       "        label  \n",
       "0  DRC_Laptop  \n",
       "1  DRC_Mobile  "
      ]
     },
     "execution_count": 31,
     "metadata": {},
     "output_type": "execute_result"
    }
   ],
   "source": [
    "train.head(2)"
   ]
  },
  {
   "cell_type": "code",
   "execution_count": 32,
   "metadata": {},
   "outputs": [
    {
     "data": {
      "text/plain": [
       "(259726, 2)"
      ]
     },
     "execution_count": 32,
     "metadata": {},
     "output_type": "execute_result"
    }
   ],
   "source": [
    "train.shape"
   ]
  },
  {
   "cell_type": "code",
   "execution_count": 33,
   "metadata": {},
   "outputs": [
    {
     "data": {
      "text/html": [
       "<div>\n",
       "<style scoped>\n",
       "    .dataframe tbody tr th:only-of-type {\n",
       "        vertical-align: middle;\n",
       "    }\n",
       "\n",
       "    .dataframe tbody tr th {\n",
       "        vertical-align: top;\n",
       "    }\n",
       "\n",
       "    .dataframe thead th {\n",
       "        text-align: right;\n",
       "    }\n",
       "</style>\n",
       "<table border=\"1\" class=\"dataframe\">\n",
       "  <thead>\n",
       "    <tr style=\"text-align: right;\">\n",
       "      <th></th>\n",
       "      <th>item_name</th>\n",
       "      <th>label</th>\n",
       "    </tr>\n",
       "  </thead>\n",
       "  <tbody>\n",
       "    <tr>\n",
       "      <th>0</th>\n",
       "      <td>RELAXDAYS 10025180 SUN PINATA, HANGING CHILDREN’S PAPER PIÑATA FOR BOYS &amp; GIRLS, FILLABLE, BIRTHDAY DECORATION, UNISEX, YELLOW/ORANGE</td>\n",
       "      <td>Non-DRC</td>\n",
       "    </tr>\n",
       "    <tr>\n",
       "      <th>1</th>\n",
       "      <td>MICKEY MOUSE HAPPY SAMSUNG GALAXY A5 2017 SILICONE</td>\n",
       "      <td>Non-DRC</td>\n",
       "    </tr>\n",
       "    <tr>\n",
       "      <th>2</th>\n",
       "      <td>INJUSTICE: GODS AMONG US ULTIMATE EDITION (PC DVD) [UK IMPORT]</td>\n",
       "      <td>Non-DRC</td>\n",
       "    </tr>\n",
       "  </tbody>\n",
       "</table>\n",
       "</div>"
      ],
      "text/plain": [
       "                                                                                                                               item_name  \\\n",
       "0  RELAXDAYS 10025180 SUN PINATA, HANGING CHILDREN’S PAPER PIÑATA FOR BOYS & GIRLS, FILLABLE, BIRTHDAY DECORATION, UNISEX, YELLOW/ORANGE   \n",
       "1  MICKEY MOUSE HAPPY SAMSUNG GALAXY A5 2017 SILICONE                                                                                      \n",
       "2  INJUSTICE: GODS AMONG US ULTIMATE EDITION (PC DVD) [UK IMPORT]                                                                          \n",
       "\n",
       "     label  \n",
       "0  Non-DRC  \n",
       "1  Non-DRC  \n",
       "2  Non-DRC  "
      ]
     },
     "execution_count": 33,
     "metadata": {},
     "output_type": "execute_result"
    }
   ],
   "source": [
    "test.head(3)"
   ]
  },
  {
   "cell_type": "code",
   "execution_count": 34,
   "metadata": {},
   "outputs": [],
   "source": [
    "!mkdir -p data\n",
    "train.to_csv(\"./data/train.csv\",index=False)\n",
    "test.to_csv(\"./data/test.csv\",index=False)"
   ]
  },
  {
   "cell_type": "markdown",
   "metadata": {},
   "source": [
    "The `transform_instance` will be applied to each data instance in parallel using python's multiprocessing module"
   ]
  },
  {
   "cell_type": "code",
   "execution_count": 35,
   "metadata": {
    "scrolled": true
   },
   "outputs": [
    {
     "name": "stderr",
     "output_type": "stream",
     "text": [
      "[nltk_data] Downloading package omw-1.4 to /root/nltk_data...\n",
      "[nltk_data]   Package omw-1.4 is already up-to-date!\n",
      "[nltk_data] Downloading package punkt to /root/nltk_data...\n",
      "[nltk_data]   Package punkt is already up-to-date!\n",
      "[nltk_data] Downloading package stopwords to /root/nltk_data...\n",
      "[nltk_data]   Package stopwords is already up-to-date!\n"
     ]
    },
    {
     "name": "stdout",
     "output_type": "stream",
     "text": [
      "CPU times: user 2min 27s, sys: 622 ms, total: 2min 28s\n",
      "Wall time: 2min 42s\n"
     ]
    }
   ],
   "source": [
    "%%time\n",
    "import preprocessing_prdrc\n",
    "# Preparing the training dataset\n",
    "preprocessing_prdrc.preprocess(\"data/train.csv\", \"icm.train\")\n",
    "\n",
    "# Preparing the validation dataset\n",
    "preprocessing_prdrc.preprocess(\"data/test.csv\", \"icm.validation\")"
   ]
  },
  {
   "cell_type": "markdown",
   "metadata": {},
   "source": [
    "The data preprocessing cell might take a minute to run. After the data preprocessing is complete, we need to upload it to S3 so that it can be consumed by SageMaker to execute training jobs. We'll use Python SDK to upload these two files to the bucket and prefix location that we have set above.   "
   ]
  },
  {
   "cell_type": "code",
   "execution_count": 36,
   "metadata": {},
   "outputs": [
    {
     "name": "stdout",
     "output_type": "stream",
     "text": [
      "CPU times: user 213 ms, sys: 95.9 ms, total: 309 ms\n",
      "Wall time: 1.34 s\n"
     ]
    }
   ],
   "source": [
    "%%time\n",
    "\n",
    "train_channel = prefix + \"/train\"\n",
    "validation_channel = prefix + \"/validation\"\n",
    "\n",
    "sess.upload_data(path=\"icm.train\", bucket=bucket, key_prefix=train_channel)\n",
    "sess.upload_data(path=\"icm.validation\", bucket=bucket, key_prefix=validation_channel)\n",
    "\n",
    "s3_train_data = \"s3://{}/{}\".format(bucket, train_channel)\n",
    "s3_validation_data = \"s3://{}/{}\".format(bucket, validation_channel)"
   ]
  },
  {
   "cell_type": "markdown",
   "metadata": {},
   "source": [
    "Next we need to setup an output location at S3, where the model artifact will be dumped. These artifacts are also the output of the algorithm's traning job."
   ]
  },
  {
   "cell_type": "code",
   "execution_count": 37,
   "metadata": {},
   "outputs": [],
   "source": [
    "s3_output_location = \"s3://{}/{}/output\".format(bucket, prefix)"
   ]
  },
  {
   "cell_type": "markdown",
   "metadata": {},
   "source": [
    "## Training\n",
    "Now that we are done with all the setup that is needed, we are ready to train our object detector. To begin, let us create a ``sageMaker.estimator.Estimator`` object. This estimator will launch the training job."
   ]
  },
  {
   "cell_type": "code",
   "execution_count": 38,
   "metadata": {},
   "outputs": [],
   "source": [
    "region_name = boto3.Session().region_name"
   ]
  },
  {
   "cell_type": "code",
   "execution_count": 39,
   "metadata": {},
   "outputs": [
    {
     "name": "stderr",
     "output_type": "stream",
     "text": [
      "The method get_image_uri has been renamed in sagemaker>=2.\n",
      "See: https://sagemaker.readthedocs.io/en/stable/v2.html for details.\n",
      "Defaulting to the only supported framework/algorithm version: 1. Ignoring framework/algorithm version: latest.\n"
     ]
    },
    {
     "name": "stdout",
     "output_type": "stream",
     "text": [
      "Using SageMaker BlazingText container: 433757028032.dkr.ecr.us-west-2.amazonaws.com/blazingtext:1 (us-west-2)\n"
     ]
    }
   ],
   "source": [
    "container = sagemaker.amazon.amazon_estimator.get_image_uri(region_name, \"blazingtext\", \"latest\")\n",
    "print(\"Using SageMaker BlazingText container: {} ({})\".format(container, region_name))"
   ]
  },
  {
   "cell_type": "markdown",
   "metadata": {},
   "source": [
    "## Training the BlazingText model for supervised text classification"
   ]
  },
  {
   "cell_type": "markdown",
   "metadata": {},
   "source": [
    "Similar to the original implementation of [Word2Vec](https://arxiv.org/pdf/1301.3781.pdf), SageMaker BlazingText provides an efficient implementation of the continuous bag-of-words (CBOW) and skip-gram architectures using Negative Sampling, on CPUs and additionally on GPU[s]. The GPU implementation uses highly optimized CUDA kernels. To learn more, please refer to [*BlazingText: Scaling and Accelerating Word2Vec using Multiple GPUs*](https://dl.acm.org/citation.cfm?doid=3146347.3146350004).\n",
    "\n",
    "\n"
   ]
  },
  {
   "cell_type": "markdown",
   "metadata": {},
   "source": [
    "Besides skip-gram and CBOW, SageMaker BlazingText also supports the \"Batch Skipgram\" mode, which uses efficient mini-batching and matrix-matrix operations ([BLAS Level 3 routines](https://software.intel.com/en-us/mkl-developer-reference-fortran-blas-level-3-routines)). This mode enables distributed word2vec training across multiple CPU nodes, allowing almost linear scale up of word2vec computation to process hundreds of millions of words per second. Please refer to [*Parallelizing Word2Vec in Shared and Distributed Memory*](https://arxiv.org/pdf/1604.04661.pdf) to learn more."
   ]
  },
  {
   "cell_type": "markdown",
   "metadata": {},
   "source": [
    "BlazingText also supports a *supervised* mode for text classification. It extends the FastText text classifier to leverage GPU acceleration using custom CUDA kernels. The model can be trained on more than a billion words in a couple of minutes using a multi-core CPU or a GPU, while achieving performance on par with the state-of-the-art deep learning text classification algorithms. For more information, please refer to the [algorithm documentation](https://docs.aws.amazon.com/sagemaker/latest/dg/blazingtext.html)."
   ]
  },
  {
   "cell_type": "markdown",
   "metadata": {},
   "source": [
    "To summarize, the following modes are supported by BlazingText on different types instances:\n",
    "\n",
    "|          Modes         \t| cbow (supports subwords training) \t| skipgram (supports subwords training) \t| batch_skipgram \t| supervised |\n",
    "|:----------------------:\t|:----:\t|:--------:\t|:--------------:\t| :--------------:\t|\n",
    "|   Single CPU instance  \t|   ✔  \t|     ✔    \t|        ✔       \t|  ✔  |\n",
    "|   Single GPU instance  \t|   ✔  \t|     ✔    \t|                \t|  ✔ (Instance with 1 GPU only)  |\n",
    "| Multiple CPU instances \t|      \t|          \t|        ✔       \t|     | |\n",
    "\n",
    "Now, let's define the SageMaker `Estimator` with resource configurations and hyperparameters to train Text Classification on *DBPedia* dataset, using \"supervised\" mode on a `c4.4xlarge` instance.\n",
    "\n",
    "Refer to [BlazingText Hyperparameters](https://docs.aws.amazon.com/sagemaker/latest/dg/blazingtext_hyperparameters.html) in the Amazon SageMaker documentation for the complete list of hyperparameters."
   ]
  },
  {
   "cell_type": "code",
   "execution_count": 38,
   "metadata": {},
   "outputs": [],
   "source": [
    "bt_model = sagemaker.estimator.Estimator(\n",
    "    container,\n",
    "    role,\n",
    "    instance_count=1,\n",
    "    instance_type=\"ml.c4.4xlarge\",\n",
    "    volume_size=30,\n",
    "#     max_run=360000,\n",
    "    input_mode=\"File\",\n",
    "    output_path=s3_output_location,\n",
    "    hyperparameters={\n",
    "        \"mode\": \"supervised\",\n",
    "        \"epochs\": 7,\n",
    "#         \"min_count\": 2,\n",
    "        \"learning_rate\": 0.12,\n",
    "#         \"vector_dim\": 10,\n",
    "#         \"early_stopping\": True,\n",
    "#         \"patience\": 4,\n",
    "        \"min_epochs\": 5,\n",
    "        \"word_ngrams\": 2,\n",
    "    },\n",
    ")"
   ]
  },
  {
   "cell_type": "code",
   "execution_count": 39,
   "metadata": {},
   "outputs": [],
   "source": [
    "# Auto tune\n",
    "from sagemaker.tuner import (\n",
    "    IntegerParameter,\n",
    "    CategoricalParameter,\n",
    "    ContinuousParameter,\n",
    "    HyperparameterTuner,\n",
    ")\n",
    "\n",
    "hyperparameter_ranges = {\n",
    "    \"epochs\": IntegerParameter(10,40),\n",
    "#     \"batch_size\": IntegerParameter(8,32),\n",
    "    \"learning_rate\": ContinuousParameter(0.015, 0.300),\n",
    "#     \"window_size\": IntegerParameter(1, 10),\n",
    "    \"word_ngrams\": IntegerParameter(1,2),\n",
    "#     \"buckets\": IntegerParameter(1000000,10000000),\n",
    "#     \"min_count\": IntegerParameter(1,100)\n",
    "}\n",
    "\n",
    "objective_metric_name = \"validation:accuracy\"\n",
    "objective_type = \"Maximize\"\n",
    "\n",
    "tuner = HyperparameterTuner(\n",
    "    bt_model,\n",
    "    objective_metric_name,\n",
    "    hyperparameter_ranges,\n",
    "    max_jobs=6,\n",
    "    max_parallel_jobs=2,\n",
    "    objective_type=objective_type,\n",
    ")"
   ]
  },
  {
   "cell_type": "markdown",
   "metadata": {},
   "source": [
    "Now that the hyper-parameters are setup, let us prepare the handshake between our data channels and the algorithm. To do this, we need to create the `sagemaker.session.s3_input` objects from our data channels. These objects are then put in a simple dictionary, which the algorithm consumes."
   ]
  },
  {
   "cell_type": "code",
   "execution_count": 44,
   "metadata": {},
   "outputs": [],
   "source": [
    "train_data = sagemaker.inputs.TrainingInput(\n",
    "    s3_train_data,\n",
    "    distribution=\"FullyReplicated\",\n",
    "    content_type=\"text/plain\",\n",
    "    s3_data_type=\"S3Prefix\",\n",
    ")\n",
    "validation_data = sagemaker.inputs.TrainingInput(\n",
    "    s3_validation_data,\n",
    "    distribution=\"FullyReplicated\",\n",
    "    content_type=\"text/plain\",\n",
    "    s3_data_type=\"S3Prefix\",\n",
    ")\n",
    "data_channels = {\"train\": train_data, \"validation\": validation_data}"
   ]
  },
  {
   "cell_type": "markdown",
   "metadata": {},
   "source": [
    "We have our `Estimator` object, we have set the hyper-parameters for this object and we have our data channels linked with the algorithm. The only  remaining thing to do is to train the algorithm. The following command will train the algorithm. Training the algorithm involves a few steps. Firstly, the instance that we requested while creating the `Estimator` classes is provisioned and is setup with the appropriate libraries. Then, the data from our channels are downloaded into the instance. Once this is done, the training job begins. The provisioning and data downloading will take some time, depending on the size of the data. Therefore it might be a few minutes before we start getting training logs for our training jobs. The data logs will also print out Accuracy on the validation data for every epoch after training job has executed `min_epochs`. This metric is a proxy for the quality of the algorithm. \n",
    "\n",
    "Once the job has finished a \"Job complete\" message will be printed. The trained model can be found in the S3 bucket that was setup as `output_path` in the estimator."
   ]
  },
  {
   "cell_type": "markdown",
   "metadata": {},
   "source": [
    "### Launch hyperparameter tuning job\n",
    "\n",
    "Now we can launch a hyperparameter tuning job by calling fit() function. After the hyperparameter tuning job is created, we can go to SageMaker console to track the progress of the hyperparameter tuning job until it is completed.\n",
    "\n",
    "This should take around 12 minutes to complete.\n"
   ]
  },
  {
   "cell_type": "code",
   "execution_count": 41,
   "metadata": {},
   "outputs": [
    {
     "name": "stdout",
     "output_type": "stream",
     "text": [
      "........................................................................................................................................!\n",
      "CPU times: user 499 ms, sys: 47.6 ms, total: 547 ms\n",
      "Wall time: 11min 27s\n"
     ]
    }
   ],
   "source": [
    "%%time\n",
    "\n",
    "tuner.fit(inputs=data_channels, logs=True)"
   ]
  },
  {
   "cell_type": "markdown",
   "metadata": {},
   "source": [
    "\n",
    "### Analyze Results of a Hyperparameter Tuning job\n",
    "\n",
    "Once you have completed a tuning job, (or even while the job is still running) you can use the code below to analyze the results to understand how each hyperparameter effects the quality of the model.\n"
   ]
  },
  {
   "cell_type": "code",
   "execution_count": 42,
   "metadata": {},
   "outputs": [
    {
     "data": {
      "text/plain": [
       "'blazingtext-220601-1954'"
      ]
     },
     "execution_count": 42,
     "metadata": {},
     "output_type": "execute_result"
    }
   ],
   "source": [
    "sm_client = boto3.Session().client(\"sagemaker\")\n",
    "\n",
    "tuning_job_name = tuner.latest_tuning_job.name\n",
    "tuning_job_name"
   ]
  },
  {
   "cell_type": "markdown",
   "metadata": {},
   "source": [
    "### Track hyperparameter tuning job progress\n",
    "\n",
    "After you launch a tuning job, you can see its progress by calling describe_tuning_job API. The output from describe-tuning-job is a JSON object that contains information about the current state of the tuning job. You can call list_training_jobs_for_tuning_job to see a detailed list of the training jobs that the tuning job launched."
   ]
  },
  {
   "cell_type": "code",
   "execution_count": 43,
   "metadata": {},
   "outputs": [
    {
     "name": "stdout",
     "output_type": "stream",
     "text": [
      "6 training jobs have completed\n"
     ]
    }
   ],
   "source": [
    "tuning_job_result = sm_client.describe_hyper_parameter_tuning_job(\n",
    "    HyperParameterTuningJobName=tuning_job_name\n",
    ")\n",
    "\n",
    "status = tuning_job_result[\"HyperParameterTuningJobStatus\"]\n",
    "if status != \"Completed\":\n",
    "    print(\"Reminder: the tuning job has not been completed.\")\n",
    "\n",
    "job_count = tuning_job_result[\"TrainingJobStatusCounters\"][\"Completed\"]\n",
    "print(\"%d training jobs have completed\" % job_count)\n",
    "\n",
    "is_minimize = (\n",
    "    tuning_job_result[\"HyperParameterTuningJobConfig\"][\"HyperParameterTuningJobObjective\"][\"Type\"]\n",
    "    != \"Maximize\"\n",
    ")\n",
    "objective_name = tuning_job_result[\"HyperParameterTuningJobConfig\"][\n",
    "    \"HyperParameterTuningJobObjective\"\n",
    "][\"MetricName\"]"
   ]
  },
  {
   "cell_type": "code",
   "execution_count": 44,
   "metadata": {},
   "outputs": [
    {
     "name": "stdout",
     "output_type": "stream",
     "text": [
      "Best model found so far:\n",
      "{'CreationTime': datetime.datetime(2022, 6, 1, 19, 54, 37, tzinfo=tzlocal()),\n",
      " 'FinalHyperParameterTuningJobObjectiveMetric': {'MetricName': 'validation:accuracy',\n",
      "                                                 'Value': 0.9901000261306763},\n",
      " 'ObjectiveStatus': 'Succeeded',\n",
      " 'TrainingEndTime': datetime.datetime(2022, 6, 1, 19, 59, 4, tzinfo=tzlocal()),\n",
      " 'TrainingJobArn': 'arn:aws:sagemaker:us-west-2:430758128697:training-job/blazingtext-220601-1954-001-e226ee20',\n",
      " 'TrainingJobName': 'blazingtext-220601-1954-001-e226ee20',\n",
      " 'TrainingJobStatus': 'Completed',\n",
      " 'TrainingStartTime': datetime.datetime(2022, 6, 1, 19, 56, 23, tzinfo=tzlocal()),\n",
      " 'TunedHyperParameters': {'epochs': '24',\n",
      "                          'learning_rate': '0.24161930379055385',\n",
      "                          'word_ngrams': '2'}}\n"
     ]
    }
   ],
   "source": [
    "from pprint import pprint\n",
    "\n",
    "if tuning_job_result.get(\"BestTrainingJob\", None):\n",
    "    print(\"Best model found so far:\")\n",
    "    pprint(tuning_job_result[\"BestTrainingJob\"])\n",
    "else:\n",
    "    print(\"No training jobs have reported results yet.\")"
   ]
  },
  {
   "cell_type": "markdown",
   "metadata": {},
   "source": [
    "#### We can list hyperparameters and objective metrics of all training jobs and pick up the training job with the best objective metric."
   ]
  },
  {
   "cell_type": "code",
   "execution_count": 45,
   "metadata": {},
   "outputs": [
    {
     "name": "stdout",
     "output_type": "stream",
     "text": [
      "Number of training jobs with valid objective: 6\n",
      "{'lowest': 0.9868999719619751, 'highest': 0.9901000261306763}\n"
     ]
    },
    {
     "name": "stderr",
     "output_type": "stream",
     "text": [
      "/opt/conda/lib/python3.7/site-packages/ipykernel_launcher.py:13: FutureWarning: Passing a negative integer is deprecated in version 1.0 and will not be supported in future version. Instead, use None to not limit the column width.\n",
      "  del sys.path[0]\n"
     ]
    },
    {
     "data": {
      "text/html": [
       "<div>\n",
       "<style scoped>\n",
       "    .dataframe tbody tr th:only-of-type {\n",
       "        vertical-align: middle;\n",
       "    }\n",
       "\n",
       "    .dataframe tbody tr th {\n",
       "        vertical-align: top;\n",
       "    }\n",
       "\n",
       "    .dataframe thead th {\n",
       "        text-align: right;\n",
       "    }\n",
       "</style>\n",
       "<table border=\"1\" class=\"dataframe\">\n",
       "  <thead>\n",
       "    <tr style=\"text-align: right;\">\n",
       "      <th></th>\n",
       "      <th>epochs</th>\n",
       "      <th>learning_rate</th>\n",
       "      <th>word_ngrams</th>\n",
       "      <th>TrainingJobName</th>\n",
       "      <th>TrainingJobStatus</th>\n",
       "      <th>FinalObjectiveValue</th>\n",
       "      <th>TrainingStartTime</th>\n",
       "      <th>TrainingEndTime</th>\n",
       "      <th>TrainingElapsedTimeSeconds</th>\n",
       "    </tr>\n",
       "  </thead>\n",
       "  <tbody>\n",
       "    <tr>\n",
       "      <th>4</th>\n",
       "      <td>40.0</td>\n",
       "      <td>0.149635</td>\n",
       "      <td>2.0</td>\n",
       "      <td>blazingtext-220601-1954-002-df33b619</td>\n",
       "      <td>Completed</td>\n",
       "      <td>0.9901</td>\n",
       "      <td>2022-06-01 19:56:08+00:00</td>\n",
       "      <td>2022-06-01 19:58:51+00:00</td>\n",
       "      <td>163.0</td>\n",
       "    </tr>\n",
       "    <tr>\n",
       "      <th>5</th>\n",
       "      <td>24.0</td>\n",
       "      <td>0.241619</td>\n",
       "      <td>2.0</td>\n",
       "      <td>blazingtext-220601-1954-001-e226ee20</td>\n",
       "      <td>Completed</td>\n",
       "      <td>0.9901</td>\n",
       "      <td>2022-06-01 19:56:23+00:00</td>\n",
       "      <td>2022-06-01 19:59:04+00:00</td>\n",
       "      <td>161.0</td>\n",
       "    </tr>\n",
       "    <tr>\n",
       "      <th>0</th>\n",
       "      <td>13.0</td>\n",
       "      <td>0.020046</td>\n",
       "      <td>2.0</td>\n",
       "      <td>blazingtext-220601-1954-006-d9728ab6</td>\n",
       "      <td>Completed</td>\n",
       "      <td>0.9896</td>\n",
       "      <td>2022-06-01 20:03:34+00:00</td>\n",
       "      <td>2022-06-01 20:05:51+00:00</td>\n",
       "      <td>137.0</td>\n",
       "    </tr>\n",
       "    <tr>\n",
       "      <th>3</th>\n",
       "      <td>12.0</td>\n",
       "      <td>0.023285</td>\n",
       "      <td>1.0</td>\n",
       "      <td>blazingtext-220601-1954-003-bb849e00</td>\n",
       "      <td>Completed</td>\n",
       "      <td>0.9885</td>\n",
       "      <td>2022-06-01 20:00:26+00:00</td>\n",
       "      <td>2022-06-01 20:01:09+00:00</td>\n",
       "      <td>43.0</td>\n",
       "    </tr>\n",
       "    <tr>\n",
       "      <th>2</th>\n",
       "      <td>10.0</td>\n",
       "      <td>0.141855</td>\n",
       "      <td>1.0</td>\n",
       "      <td>blazingtext-220601-1954-004-741b106d</td>\n",
       "      <td>Completed</td>\n",
       "      <td>0.9883</td>\n",
       "      <td>2022-06-01 20:00:50+00:00</td>\n",
       "      <td>2022-06-01 20:01:37+00:00</td>\n",
       "      <td>47.0</td>\n",
       "    </tr>\n",
       "    <tr>\n",
       "      <th>1</th>\n",
       "      <td>39.0</td>\n",
       "      <td>0.235457</td>\n",
       "      <td>1.0</td>\n",
       "      <td>blazingtext-220601-1954-005-2f731fe8</td>\n",
       "      <td>Completed</td>\n",
       "      <td>0.9869</td>\n",
       "      <td>2022-06-01 20:02:51+00:00</td>\n",
       "      <td>2022-06-01 20:03:38+00:00</td>\n",
       "      <td>47.0</td>\n",
       "    </tr>\n",
       "  </tbody>\n",
       "</table>\n",
       "</div>"
      ],
      "text/plain": [
       "   epochs  learning_rate  word_ngrams                       TrainingJobName  \\\n",
       "4  40.0    0.149635       2.0          blazingtext-220601-1954-002-df33b619   \n",
       "5  24.0    0.241619       2.0          blazingtext-220601-1954-001-e226ee20   \n",
       "0  13.0    0.020046       2.0          blazingtext-220601-1954-006-d9728ab6   \n",
       "3  12.0    0.023285       1.0          blazingtext-220601-1954-003-bb849e00   \n",
       "2  10.0    0.141855       1.0          blazingtext-220601-1954-004-741b106d   \n",
       "1  39.0    0.235457       1.0          blazingtext-220601-1954-005-2f731fe8   \n",
       "\n",
       "  TrainingJobStatus  FinalObjectiveValue         TrainingStartTime  \\\n",
       "4  Completed         0.9901              2022-06-01 19:56:08+00:00   \n",
       "5  Completed         0.9901              2022-06-01 19:56:23+00:00   \n",
       "0  Completed         0.9896              2022-06-01 20:03:34+00:00   \n",
       "3  Completed         0.9885              2022-06-01 20:00:26+00:00   \n",
       "2  Completed         0.9883              2022-06-01 20:00:50+00:00   \n",
       "1  Completed         0.9869              2022-06-01 20:02:51+00:00   \n",
       "\n",
       "            TrainingEndTime  TrainingElapsedTimeSeconds  \n",
       "4 2022-06-01 19:58:51+00:00  163.0                       \n",
       "5 2022-06-01 19:59:04+00:00  161.0                       \n",
       "0 2022-06-01 20:05:51+00:00  137.0                       \n",
       "3 2022-06-01 20:01:09+00:00  43.0                        \n",
       "2 2022-06-01 20:01:37+00:00  47.0                        \n",
       "1 2022-06-01 20:03:38+00:00  47.0                        "
      ]
     },
     "execution_count": 45,
     "metadata": {},
     "output_type": "execute_result"
    }
   ],
   "source": [
    "import pandas as pd\n",
    "\n",
    "tuner_analytics = sagemaker.HyperparameterTuningJobAnalytics(tuning_job_name)\n",
    "\n",
    "full_df = tuner_analytics.dataframe()\n",
    "\n",
    "if len(full_df) > 0:\n",
    "    df = full_df[full_df[\"FinalObjectiveValue\"] > -float(\"inf\")]\n",
    "    if len(df) > 0:\n",
    "        df = df.sort_values(\"FinalObjectiveValue\", ascending=is_minimize)\n",
    "        print(\"Number of training jobs with valid objective: %d\" % len(df))\n",
    "        print({\"lowest\": min(df[\"FinalObjectiveValue\"]), \"highest\": max(df[\"FinalObjectiveValue\"])})\n",
    "        pd.set_option(\"display.max_colwidth\", -1)  # Don't truncate TrainingJobName\n",
    "    else:\n",
    "        print(\"No training jobs have reported valid results yet.\")\n",
    "\n",
    "df"
   ]
  },
  {
   "cell_type": "code",
   "execution_count": 45,
   "metadata": {},
   "outputs": [],
   "source": [
    "bt_model = sagemaker.estimator.Estimator(\n",
    "    container,\n",
    "    role,\n",
    "    instance_count=1,\n",
    "    instance_type=\"ml.c4.4xlarge\",\n",
    "    volume_size=30,\n",
    "#     max_run=360000,\n",
    "    input_mode=\"File\",\n",
    "    output_path=s3_output_location,\n",
    "    hyperparameters={\n",
    "        \"mode\": \"supervised\",\n",
    "        \"epochs\": 24,\n",
    "#         \"min_count\": 2,\n",
    "        \"learning_rate\": 0.24161930379055385,\n",
    "#         \"vector_dim\": 10,\n",
    "#         \"early_stopping\": True,\n",
    "#         \"patience\": 4,\n",
    "        \"min_epochs\": 5,\n",
    "        \"word_ngrams\": 2,\n",
    "    },\n",
    ")"
   ]
  },
  {
   "cell_type": "code",
   "execution_count": 46,
   "metadata": {},
   "outputs": [
    {
     "name": "stdout",
     "output_type": "stream",
     "text": [
      "2022-06-01 21:02:20 Starting - Starting the training job...ProfilerReport-1654117340: InProgress\n",
      "...\n",
      "2022-06-01 21:03:08 Starting - Preparing the instances for training......\n",
      "2022-06-01 21:04:20 Downloading - Downloading input data...\n",
      "2022-06-01 21:04:44 Training - Downloading the training image..\u001b[34mArguments: train\u001b[0m\n",
      "\u001b[34m[06/01/2022 21:04:55 WARNING 140202354546496] Loggers have already been setup.\u001b[0m\n",
      "\u001b[34m[06/01/2022 21:04:55 WARNING 140202354546496] Loggers have already been setup.\u001b[0m\n",
      "\u001b[34m[06/01/2022 21:04:55 INFO 140202354546496] nvidia-smi took: 0.025225400924682617 secs to identify 0 gpus\u001b[0m\n",
      "\u001b[34m[06/01/2022 21:04:55 INFO 140202354546496] Running single machine CPU BlazingText training using supervised mode.\u001b[0m\n",
      "\u001b[34mNumber of CPU sockets found in instance is  1\u001b[0m\n",
      "\u001b[34m[06/01/2022 21:04:55 INFO 140202354546496] Processing /opt/ml/input/data/train/icm.train . File size: 24.411633491516113 MB\u001b[0m\n",
      "\u001b[34m[06/01/2022 21:04:55 INFO 140202354546496] Processing /opt/ml/input/data/validation/icm.validation . File size: 2.1626720428466797 MB\u001b[0m\n",
      "\u001b[34mRead 4M words\u001b[0m\n",
      "\u001b[34mNumber of words:  22847\u001b[0m\n",
      "\u001b[34m##### Alpha: 0.2367  Progress: 2.06%  Million Words/sec: 22.02 #####\u001b[0m\n",
      "\u001b[34m##### Alpha: 0.2214  Progress: 8.38%  Million Words/sec: 22.61 #####\u001b[0m\n",
      "\u001b[34m##### Alpha: 0.2059  Progress: 14.78%  Million Words/sec: 22.79 #####\u001b[0m\n",
      "\u001b[34m##### Alpha: 0.1901  Progress: 21.33%  Million Words/sec: 22.99 #####\u001b[0m\n",
      "\u001b[34m##### Alpha: 0.1747  Progress: 27.69%  Million Words/sec: 22.97 #####\u001b[0m\n",
      "\u001b[34m##### Alpha: 0.1595  Progress: 34.00%  Million Words/sec: 22.92 #####\u001b[0m\n",
      "\u001b[34m##### Alpha: 0.1442  Progress: 40.32%  Million Words/sec: 22.89 #####\u001b[0m\n",
      "\u001b[34m##### Alpha: 0.1289  Progress: 46.66%  Million Words/sec: 22.88 #####\u001b[0m\n",
      "\u001b[34m##### Alpha: 0.1136  Progress: 53.00%  Million Words/sec: 22.88 #####\u001b[0m\n",
      "\u001b[34m##### Alpha: 0.0986  Progress: 59.21%  Million Words/sec: 22.83 #####\u001b[0m\n",
      "\u001b[34m##### Alpha: 0.0833  Progress: 65.52%  Million Words/sec: 22.82 #####\u001b[0m\n",
      "\u001b[34m##### Alpha: 0.0685  Progress: 71.65%  Million Words/sec: 22.75 #####\u001b[0m\n",
      "\u001b[34m##### Alpha: 0.0535  Progress: 77.85%  Million Words/sec: 22.72 #####\u001b[0m\n",
      "\u001b[34m##### Alpha: 0.0385  Progress: 84.08%  Million Words/sec: 22.70 #####\u001b[0m\n",
      "\u001b[34m##### Alpha: 0.0231  Progress: 90.43%  Million Words/sec: 22.71 #####\u001b[0m\n",
      "\u001b[34m##### Alpha: 0.0078  Progress: 96.77%  Million Words/sec: 22.71 #####\u001b[0m\n",
      "\u001b[34m##### Alpha: 0.0000  Progress: 100.00%  Million Words/sec: 22.49 #####\u001b[0m\n",
      "\u001b[34mTraining finished.\u001b[0m\n",
      "\u001b[34mAverage throughput in Million words/sec: 22.49\u001b[0m\n",
      "\u001b[34mTotal training time in seconds: 4.81\u001b[0m\n",
      "\u001b[34m#train_accuracy: 0.9983\u001b[0m\n",
      "\u001b[34mNumber of train examples: 259726\u001b[0m\n",
      "\u001b[34m#validation_accuracy: 0.9985\u001b[0m\n",
      "\u001b[34mNumber of validation examples: 24003\u001b[0m\n",
      "\n",
      "2022-06-01 21:05:12 Uploading - Uploading generated training model\n",
      "2022-06-01 21:06:48 Completed - Training job completed\n",
      "Training seconds: 148\n",
      "Billable seconds: 148\n",
      "CPU times: user 452 ms, sys: 20.2 ms, total: 472 ms\n",
      "Wall time: 4min 44s\n"
     ]
    }
   ],
   "source": [
    "%%time\n",
    "bt_model.fit(inputs=data_channels, logs=True)"
   ]
  },
  {
   "cell_type": "markdown",
   "metadata": {},
   "source": [
    "### Deploy the best trained model\n",
    "\n",
    "Once the training is done, we can deploy the trained model as an Amazon SageMaker real-time hosted endpoint. This will allow us to make predictions (or inference) from the model. Note that we don't have to host on the same type of instance that we used to train, because usually for inference, less compute power is needed than for training, and in addition, instance endpoints will be up and running for long, it's advisable to choose a cheaper instance for inference.\n",
    "\n",
    "    ml.c4.4xlarge - Compute Optimized instances are ideal for compute bound applications that benefit from high performance processors.\n",
    "    ml.m4.xlarge - General purpose instances provide a balance of compute, memory and networking resources, and can be used for a variety of diverse workloads.\n",
    "\n"
   ]
  },
  {
   "cell_type": "code",
   "execution_count": 47,
   "metadata": {},
   "outputs": [
    {
     "name": "stdout",
     "output_type": "stream",
     "text": [
      "-------!"
     ]
    }
   ],
   "source": [
    "from sagemaker.serializers import JSONSerializer\n",
    "\n",
    "# text_classifier = tuner.deploy(\n",
    "#     initial_instance_count=1, instance_type=\"ml.m4.xlarge\", serializer=JSONSerializer()\n",
    "# )\n",
    "text_classifier = bt_model.deploy(\n",
    "    initial_instance_count=1, instance_type=\"ml.m4.xlarge\", serializer=JSONSerializer()\n",
    ")"
   ]
  },
  {
   "cell_type": "markdown",
   "metadata": {},
   "source": [
    "## Hosting / Inference\n",
    "Once the training is done, we can deploy the trained model as an Amazon SageMaker real-time hosted endpoint. This will allow us to make predictions (or inference) from the model. Note that we don't have to host on the same type of instance that we used to train. Because instance endpoints will be up and running for long, it's advisable to choose a cheaper instance for inference."
   ]
  },
  {
   "cell_type": "markdown",
   "metadata": {},
   "source": [
    "#### Use JSON format for inference\n",
    "BlazingText supports `application/json` as the content-type for inference. The payload should contain a list of sentences with the key as \"**instances**\" while being passed to the endpoint."
   ]
  },
  {
   "cell_type": "code",
   "execution_count": 48,
   "metadata": {},
   "outputs": [
    {
     "data": {
      "text/plain": [
       "[{'Intent': 'DRC_Laptop', 'Intent_confidence': 99.04639720916748},\n",
       " {'Intent': 'DRC_Mobile', 'Intent_confidence': 99.84075427055359},\n",
       " {'Intent': 'Non-DRC', 'Intent_confidence': 100.00078678131104},\n",
       " {'Intent': 'DRC_Mobile', 'Intent_confidence': 100.00090599060059},\n",
       " {'Intent': 'Non-DRC', 'Intent_confidence': 100.00100135803223},\n",
       " {'Intent': 'DRC_Mobile', 'Intent_confidence': 71.76913619041443}]"
      ]
     },
     "execution_count": 48,
     "metadata": {},
     "output_type": "execute_result"
    }
   ],
   "source": [
    "sentences = [\n",
    "\"ALIENWARE 15000 R3 2.8GHZ I7-7700HQ INTEL® CORET I7 OF SEVENTH GENERATION 15000.6 \"\"1920 X 1080PIXEL SILVER LAPTOP\",\n",
    "\"ACER LIQUID Z6 E DUAL MICRO SIM SMARTPHONE (12.7 CM (5000 INCH) HD DISPLAY, 8GB MEMORY, 2,000MAH BATTERY, ANDROID 6.0) BLACK\",\n",
    "\"APPLE JUICE/FRUIT\",\n",
    "\"APPLE IPHONE 11 (128GB) - BLACK (INCLUDES EARPODS, POWER ADAPTER)\",\n",
    "\"APPLE CHARGER\",\n",
    "\"Apple watch (12GB) BLACK (INCLUDES EARPODS, POWER ADAPTER)\"\n",
    "]\n",
    "sentences = preprocessing_prdrc.preprocess_line(sentences)\n",
    "payload = {\"instances\": sentences, \"configuration\": {\"k\": 1}}\n",
    "\n",
    "response = text_classifier.predict(payload)\n",
    "\n",
    "predictions = json.loads(response)\n",
    "# print(json.dumps(predictions, indent=2))\n",
    "listed = []\n",
    "for i in predictions:\n",
    "    listed.append({\"Intent\":i[\"label\"][0][9:],\"Intent_confidence\":i[\"prob\"][0]*100})\n",
    "\n",
    "listed"
   ]
  },
  {
   "cell_type": "code",
   "execution_count": 50,
   "metadata": {},
   "outputs": [],
   "source": [
    "import pandas as pd\n",
    "df1 = pd.read_excel(open(\"prdrc-gb-testing-data.xlsx\",\"rb\"),engine='openpyxl')"
   ]
  },
  {
   "cell_type": "code",
   "execution_count": 68,
   "metadata": {},
   "outputs": [
    {
     "data": {
      "text/plain": [
       "Index(['pc_invoice_id', 'ofa_invoice_id', 'invoice_number', 'invoice_status',\n",
       "       'ofa_vendor_number', 'ofa_vendor_id', 'ofa_vendor_site_id', 'payee_id',\n",
       "       'payee_site_id', 'invoice_source', 'source_invoice_type',\n",
       "       'invoice_type', 'description', 'service_type', 'operational_org',\n",
       "       'ofa_org', 'bill_to_org', 'ship_to_org', 'bill_to_entity_id',\n",
       "       'ship_to_entity_id', 'company_name', 'business_type',\n",
       "       'vendor_account_number', 'service_period_start_date_in_utc',\n",
       "       'service_period_end_date_in_utc', 'has_cross_border_shipment',\n",
       "       'amazon_tax_id', 'requesters', 'payment_status', 'payment_type',\n",
       "       'pc_created_date_invoice_header_in_utc', 'invoicedate',\n",
       "       'line_item_category', 'description_1', 'locate_prdrc', 'invoice_amount',\n",
       "       'line_item_deliverable_type', 'line_item_type', 'status', 'substatus',\n",
       "       'tax_country_code', 'tax', 'tax_id', 'tax_currency', 'tax_exempt_flag',\n",
       "       'tax_percentage', 'tax_rate_code', 'tax_amount_in_local_currency',\n",
       "       'tax_reference', 'unit_of_measure', 'invoiced_quantity', 'unit_price',\n",
       "       'currency', 'tax_withholding_rate', 'withholding_tax_percentage',\n",
       "       'local_currency_code', 'invoice_currency', 'payment_currency',\n",
       "       'exchange_rate', 'net_amount', 'tax_amount', 'total_amount',\n",
       "       'ofa_created_date_line_item', 'pc_created_date_line_item',\n",
       "       'total_net_amount', 'total_tax_amount', 'gl_code', 'line_item_id',\n",
       "       'line_item_distribution_id', 'model_results',\n",
       "       'model_prediction_confidence'],\n",
       "      dtype='object')"
      ]
     },
     "execution_count": 68,
     "metadata": {},
     "output_type": "execute_result"
    }
   ],
   "source": [
    "df1.columns"
   ]
  },
  {
   "cell_type": "code",
   "execution_count": 52,
   "metadata": {},
   "outputs": [
    {
     "data": {
      "text/plain": [
       "array(['Amazon Flex', 'LHR32 - Security 2022 Guard and Star',\n",
       "       'SALVEQUICK FABRIC PLASTERS',\n",
       "       'Cisco ISA-3000-2C2F-K9= Firewall - Country variant United Kingdom Product type Firewall Ports 2 x LAN, 2 x SFP VPN Yes WLAN No Industrial Security Appliance 3000 2 x copper 2 x fibre ports Manufacturer s warranty 5-year bring',\n",
       "       '5 Star Office Hot and Cold A4 Laminator Up to 2x125micron Pouches',\n",
       "       '500mm wide x 250mm high x 5mm foamex, DOUBLE sided direct printed, c/w x 2 6mm pre-drilled holes & supplied x 2 ceiling tile clips and 150mm hanging brackets',\n",
       "       'International Womens Day - Books',\n",
       "       'SBL EU 8 Bin Cage Molex PCB Connection Cable',\n",
       "       '100-014126-006 RACK, ASH816X12, QUANTA, EU, 1302LBS, 14.4KVA, N+C, 2WHIP, ANYFEED, 3SWX12UP, 100G, SMF, KETTLE',\n",
       "       'Freight'], dtype='<U255')"
      ]
     },
     "execution_count": 52,
     "metadata": {},
     "output_type": "execute_result"
    }
   ],
   "source": [
    "sentences = df1.description_1.values.astype(str)\n",
    "sentences[:10]"
   ]
  },
  {
   "cell_type": "code",
   "execution_count": 53,
   "metadata": {},
   "outputs": [],
   "source": [
    "## for translation for NON - ENG Datasets\n",
    "# import numpy as np\n",
    "# from googletrans import Translator\n",
    "# translator = Translator()\n",
    "# translations = []\n",
    "# for i in range(len(sentences)//5000):\n",
    "#     print(i)\n",
    "#     sentence=list(map(str,sentences[(i*5000):((i+1)*5000)]))\n",
    "#     for j in sentence:\n",
    "#         translations+=[translator.translate(j, dest='en').text]\n",
    "# for j in sentences[((i+1)*5000):]:\n",
    "#     translations+=[translator.translate(j, dest='en').text]\n",
    "# print(\"length of translations:\",len(translations))\n",
    "# translations[:10]"
   ]
  },
  {
   "cell_type": "code",
   "execution_count": 4,
   "metadata": {},
   "outputs": [
    {
     "name": "stdout",
     "output_type": "stream",
     "text": [
      "CPU times: user 17.9 ms, sys: 2.65 ms, total: 20.6 ms\n",
      "Wall time: 67.8 ms\n"
     ]
    },
    {
     "data": {
      "text/plain": [
       "[{'Intent': 'DRC_Laptop', 'Intent_confidence': 99.99924898147583},\n",
       " {'Intent': 'DRC_Mobile', 'Intent_confidence': 99.97391104698181},\n",
       " {'Intent': 'Non-DRC', 'Intent_confidence': 100.00078678131104},\n",
       " {'Intent': 'Non-DRC', 'Intent_confidence': 100.00100135803223},\n",
       " {'Intent': 'DRC_Mobile', 'Intent_confidence': 100.00090599060059},\n",
       " {'Intent': 'Non-DRC', 'Intent_confidence': 100.00100135803223},\n",
       " {'Intent': 'Non-DRC', 'Intent_confidence': 100.00100135803223}]"
      ]
     },
     "execution_count": 4,
     "metadata": {},
     "output_type": "execute_result"
    }
   ],
   "source": [
    "%%time\n",
    "# invoke endpoint\n",
    "import json\n",
    "import boto3\n",
    "import preprocessing_prdrc\n",
    "sm_runtime = boto3.client(\"sagemaker-runtime\")\n",
    "sentences_ = [\n",
    "\"ALIENWARE 15 R3 2.8GHZ I7-7700HQ INTEL® CORET I7 OF SEVENTH GENERATION 15.6 \"\"1920 X 1080PIXEL SILVER LAPTOP\",\n",
    "\"ACER LIQUID Z6 E DUAL MICRO SIM SMARTPHONE (12.7 CM (5 INCH) HD DISPLAY, 8GB MEMORY, 2,000MAH BATTERY, ANDROID 6.0) BLACK\",\n",
    "\"APPLE JUICE/FRUIT\",\n",
    "\"Vending machines (Drinks, Fresh fruit)\",\n",
    "\"APPLE IPHONE 11 (128GB) - BLACK (INCLUDES EARPODS, POWER ADAPTER)\",\n",
    "\"APPLE Charger\",\n",
    "\"Universal charger 12 to 18 volt\"]\n",
    "\n",
    "processed_sentences_ = preprocessing_prdrc.preprocess_line(sentences_)\n",
    "\n",
    "payload = json.dumps({\"instances\": processed_sentences_, \"configuration\": {\"k\": 1}})\n",
    "content_type = \"application/json\"\n",
    "\n",
    "# respnse type\n",
    "accept = \"text/plain\"\n",
    "endpoint_name = \"blazingtext-2022-06-01-21-07-04-634\"\n",
    "res = sm_runtime.invoke_endpoint(\n",
    "    EndpointName=endpoint_name,\n",
    "    Body=payload,  # encoded input data\n",
    "    ContentType=content_type,  # I told the endpoint what's the encode\n",
    "    Accept=accept,  # I told the endpoint how I want to decode its response\n",
    ")\n",
    "predictions = json.loads(res['Body'].read())\n",
    "# print(json.dumps(predictions, indent=2))\n",
    "listed = []\n",
    "for i in predictions:\n",
    "    listed.append({\"Intent\":i[\"label\"][0][9:],\"Intent_confidence\":i[\"prob\"][0]*100})\n",
    "listed"
   ]
  },
  {
   "cell_type": "code",
   "execution_count": 16,
   "metadata": {},
   "outputs": [],
   "source": [
    "## for invoking the endpoint saperately\n",
    "# import preprocessing_prdrc\n",
    "# sentence = preprocessing_prdrc.preprocess_line(translations)\n",
    "\n",
    "# # invoke endpoint\n",
    "# import json\n",
    "# sm_runtime = boto3.client(\"sagemaker-runtime\")\n",
    "# payload = json.dumps({\"instances\": sentence, \"configuration\": {\"k\": 1}})\n",
    "# content_type = \"application/json\"\n",
    "\n",
    "# # respnse type\n",
    "# accept = \"text/plain\"\n",
    "# endpoint_name = \"blazingtext-220527-1229-002-039386b8\"\n",
    "# res = sm_runtime.invoke_endpoint(\n",
    "#     EndpointName=endpoint_name,\n",
    "#     Body=payload,  # encoded input data\n",
    "#     ContentType=content_type,  # I told the endpoint what's the encode\n",
    "#     Accept=accept,  # I told the endpoint how I want to decode its response\n",
    "# )\n",
    "\n",
    "# predictions = json.loads(res['Body'].read())\n",
    "# # print(json.dumps(predictions, indent=2))\n",
    "# listed = []\n",
    "# for i in predictions:\n",
    "#     listed.append({\"Intent\":i[\"label\"][0][9:],\"Intent_confidence\":i[\"prob\"][0]*100})"
   ]
  },
  {
   "cell_type": "code",
   "execution_count": 56,
   "metadata": {},
   "outputs": [],
   "source": [
    "import preprocessing_prdrc\n",
    "sentence = preprocessing_prdrc.preprocess_line(sentences)"
   ]
  },
  {
   "cell_type": "code",
   "execution_count": 60,
   "metadata": {},
   "outputs": [],
   "source": [
    "sentence_ = sentence[150000:]\n",
    "\n",
    "payload = {\"instances\": sentence_, \"configuration\": {\"k\": 1}}\n",
    "\n",
    "response = text_classifier.predict(payload)\n",
    "\n",
    "predictions = json.loads(response)\n",
    "# print(json.dumps(predictions, indent=2))\n",
    "listed = []\n",
    "for i in predictions:\n",
    "    listed.append({\"Intent\":i[\"label\"][0][9:],\"Intent_confidence\":i[\"prob\"][0]*100})"
   ]
  },
  {
   "cell_type": "code",
   "execution_count": 61,
   "metadata": {},
   "outputs": [],
   "source": [
    "# result = []\n",
    "# confidence = []\n",
    "\n",
    "for i in range(len(listed)):    \n",
    "    result.append(listed[i][\"Intent\"])\n",
    "    confidence.append(listed[i][\"Intent_confidence\"])    "
   ]
  },
  {
   "cell_type": "code",
   "execution_count": 62,
   "metadata": {},
   "outputs": [
    {
     "data": {
      "text/plain": [
       "(304415, 304415)"
      ]
     },
     "execution_count": 62,
     "metadata": {},
     "output_type": "execute_result"
    }
   ],
   "source": [
    "sentences.__len__(),len(result)"
   ]
  },
  {
   "cell_type": "code",
   "execution_count": 63,
   "metadata": {},
   "outputs": [],
   "source": [
    "# df1[\"translated_sentence\"]=translations\n",
    "df1[\"model_results\"]=result\n",
    "df1[\"model_prediction_confidence\"]=confidence"
   ]
  },
  {
   "cell_type": "code",
   "execution_count": 64,
   "metadata": {},
   "outputs": [
    {
     "data": {
      "text/plain": [
       "Non-DRC       302280\n",
       "DRC_Mobile    853   \n",
       "DRC_Laptop    714   \n",
       "DRC_Chip      401   \n",
       "DRC_Tablet    124   \n",
       "DRC_PC        43    \n",
       "Name: model_results, dtype: int64"
      ]
     },
     "execution_count": 64,
     "metadata": {},
     "output_type": "execute_result"
    }
   ],
   "source": [
    "df1.model_results.value_counts()"
   ]
  },
  {
   "cell_type": "code",
   "execution_count": 65,
   "metadata": {},
   "outputs": [],
   "source": [
    "df1.to_csv(\"GB_prdrc_model_final_predictions.csv\")"
   ]
  },
  {
   "cell_type": "code",
   "execution_count": 49,
   "metadata": {},
   "outputs": [
    {
     "data": {
      "text/html": [
       "<div>\n",
       "<style scoped>\n",
       "    .dataframe tbody tr th:only-of-type {\n",
       "        vertical-align: middle;\n",
       "    }\n",
       "\n",
       "    .dataframe tbody tr th {\n",
       "        vertical-align: top;\n",
       "    }\n",
       "\n",
       "    .dataframe thead th {\n",
       "        text-align: right;\n",
       "    }\n",
       "</style>\n",
       "<table border=\"1\" class=\"dataframe\">\n",
       "  <thead>\n",
       "    <tr style=\"text-align: right;\">\n",
       "      <th></th>\n",
       "      <th>item_name</th>\n",
       "      <th>label</th>\n",
       "    </tr>\n",
       "  </thead>\n",
       "  <tbody>\n",
       "    <tr>\n",
       "      <th>0</th>\n",
       "      <td>RELAXDAYS 10025180 SUN PINATA, HANGING CHILDREN’S PAPER PIÑATA FOR BOYS &amp; GIRLS, FILLABLE, BIRTHDAY DECORATION, UNISEX, YELLOW/ORANGE</td>\n",
       "      <td>Non-DRC</td>\n",
       "    </tr>\n",
       "    <tr>\n",
       "      <th>1</th>\n",
       "      <td>MICKEY MOUSE HAPPY SAMSUNG GALAXY A5 2017 SILICONE</td>\n",
       "      <td>Non-DRC</td>\n",
       "    </tr>\n",
       "    <tr>\n",
       "      <th>2</th>\n",
       "      <td>INJUSTICE: GODS AMONG US ULTIMATE EDITION (PC DVD) [UK IMPORT]</td>\n",
       "      <td>Non-DRC</td>\n",
       "    </tr>\n",
       "    <tr>\n",
       "      <th>3</th>\n",
       "      <td>SAMSUNG GALAXY A3 2017 -SMARTPHONE 4.7 \"(OCTA CORE 1.6 GHZ, INTERNAL MEMORY OF 16 GB, 2 GB RAM, 13 MP CAMERA, BLUETOOTH 4.1, ANDROID 6.0)</td>\n",
       "      <td>DRC_Mobile</td>\n",
       "    </tr>\n",
       "    <tr>\n",
       "      <th>4</th>\n",
       "      <td>BRODIT 833604 PROCLIP BRACKET</td>\n",
       "      <td>Non-DRC</td>\n",
       "    </tr>\n",
       "    <tr>\n",
       "      <th>...</th>\n",
       "      <td>...</td>\n",
       "      <td>...</td>\n",
       "    </tr>\n",
       "    <tr>\n",
       "      <th>23998</th>\n",
       "      <td>REVELL 03149 SOVIET BATTLE TANK T-72 M1 MODEL KIT</td>\n",
       "      <td>Non-DRC</td>\n",
       "    </tr>\n",
       "    <tr>\n",
       "      <th>23999</th>\n",
       "      <td>JAMARA JAMARA132407 - ELECTRIC MOTOR SUPPORT (330 L)</td>\n",
       "      <td>Non-DRC</td>\n",
       "    </tr>\n",
       "    <tr>\n",
       "      <th>24000</th>\n",
       "      <td>BRODIT PROCLIP 802223 LEFT CONSOLE MOUNTING BRACKET FOR CIVIC 3&amp;4 DOOR 96-00</td>\n",
       "      <td>Non-DRC</td>\n",
       "    </tr>\n",
       "    <tr>\n",
       "      <th>24001</th>\n",
       "      <td>DEWALT DW033-XJ LASER METER, 30 METERS</td>\n",
       "      <td>Non-DRC</td>\n",
       "    </tr>\n",
       "    <tr>\n",
       "      <th>24002</th>\n",
       "      <td>LINDY 41602 - GOLD PLATED USB 3.0 CABLE - TYPE A PLUG TO TYPE A PLUG - 2M</td>\n",
       "      <td>Non-DRC</td>\n",
       "    </tr>\n",
       "  </tbody>\n",
       "</table>\n",
       "<p>24003 rows × 2 columns</p>\n",
       "</div>"
      ],
      "text/plain": [
       "                                                                                                                                       item_name  \\\n",
       "0      RELAXDAYS 10025180 SUN PINATA, HANGING CHILDREN’S PAPER PIÑATA FOR BOYS & GIRLS, FILLABLE, BIRTHDAY DECORATION, UNISEX, YELLOW/ORANGE       \n",
       "1      MICKEY MOUSE HAPPY SAMSUNG GALAXY A5 2017 SILICONE                                                                                          \n",
       "2      INJUSTICE: GODS AMONG US ULTIMATE EDITION (PC DVD) [UK IMPORT]                                                                              \n",
       "3      SAMSUNG GALAXY A3 2017 -SMARTPHONE 4.7 \"(OCTA CORE 1.6 GHZ, INTERNAL MEMORY OF 16 GB, 2 GB RAM, 13 MP CAMERA, BLUETOOTH 4.1, ANDROID 6.0)   \n",
       "4      BRODIT 833604 PROCLIP BRACKET                                                                                                               \n",
       "...                              ...                                                                                                               \n",
       "23998  REVELL 03149 SOVIET BATTLE TANK T-72 M1 MODEL KIT                                                                                           \n",
       "23999  JAMARA JAMARA132407 - ELECTRIC MOTOR SUPPORT (330 L)                                                                                        \n",
       "24000  BRODIT PROCLIP 802223 LEFT CONSOLE MOUNTING BRACKET FOR CIVIC 3&4 DOOR 96-00                                                                \n",
       "24001  DEWALT DW033-XJ LASER METER, 30 METERS                                                                                                      \n",
       "24002  LINDY 41602 - GOLD PLATED USB 3.0 CABLE - TYPE A PLUG TO TYPE A PLUG - 2M                                                                   \n",
       "\n",
       "            label  \n",
       "0      Non-DRC     \n",
       "1      Non-DRC     \n",
       "2      Non-DRC     \n",
       "3      DRC_Mobile  \n",
       "4      Non-DRC     \n",
       "...        ...     \n",
       "23998  Non-DRC     \n",
       "23999  Non-DRC     \n",
       "24000  Non-DRC     \n",
       "24001  Non-DRC     \n",
       "24002  Non-DRC     \n",
       "\n",
       "[24003 rows x 2 columns]"
      ]
     },
     "execution_count": 49,
     "metadata": {},
     "output_type": "execute_result"
    }
   ],
   "source": [
    "test"
   ]
  },
  {
   "cell_type": "code",
   "execution_count": 50,
   "metadata": {},
   "outputs": [
    {
     "name": "stdout",
     "output_type": "stream",
     "text": [
      "CPU times: user 14.7 s, sys: 15.9 ms, total: 14.7 s\n",
      "Wall time: 15.3 s\n"
     ]
    }
   ],
   "source": [
    "%%time\n",
    "labels = test.label.to_list()\n",
    "sentences = preprocessing_prdrc.preprocess_line(test[\"item_name\"].values)\n",
    "payload = {\"instances\": sentences, \"configuration\": {\"k\": 1}}\n",
    "\n",
    "response = text_classifier.predict(payload)\n",
    "\n",
    "predictions_ = json.loads(response)\n",
    "pred = []\n",
    "for i in predictions_:\n",
    "    pred+= [i['label'][0][9:]]    \n",
    "\n",
    "# print(json.dumps(predictions_, indent=2))"
   ]
  },
  {
   "cell_type": "code",
   "execution_count": 51,
   "metadata": {},
   "outputs": [
    {
     "data": {
      "text/plain": [
       "['relaxday 10025180 sun pinata hang children ’ s paper piñata for boy girl fillabl birthday decor unisex yellow orang',\n",
       " 'mickey mous happi samsung galaxi a5 2017 silicon',\n",
       " 'injustic god among us ultim edit pc dvd uk import',\n",
       " 'samsung galaxi a3 2017 smartphon 4 7 octa core 1 6 ghz intern memori of 16 gb 2 gb ram 13 mp camera bluetooth 4 1 android 6 0',\n",
       " 'brodit 833604 proclip bracket',\n",
       " 'jabra sport puls special edit wireless bluetooth stereo earbud with built in heart rate monitor black',\n",
       " 'scor src 140 b watch analog black',\n",
       " 'polycom 1457 52783 002 1 8 m usb on usb b cabl usb',\n",
       " 'sandisk ultra fit 64 gb usb flash drive usb 3 0 up to 150 mb sek',\n",
       " 'libraton zip mini 2 smart wireless small speaker alexa integr airplay 2 multiroom 360 ° sound wi fi bluetooth spotifi connect 12 hr batteri cranberri red']"
      ]
     },
     "execution_count": 51,
     "metadata": {},
     "output_type": "execute_result"
    }
   ],
   "source": [
    "sentences[:10]"
   ]
  },
  {
   "cell_type": "code",
   "execution_count": 52,
   "metadata": {},
   "outputs": [
    {
     "data": {
      "text/plain": [
       "(24003, 24003)"
      ]
     },
     "execution_count": 52,
     "metadata": {},
     "output_type": "execute_result"
    }
   ],
   "source": [
    "pred.__len__(),test.__len__()"
   ]
  },
  {
   "cell_type": "code",
   "execution_count": 53,
   "metadata": {},
   "outputs": [
    {
     "data": {
      "text/plain": [
       "(Non-DRC        20710\n",
       " DRC_Laptop     1165 \n",
       " DRC_Mobile     1041 \n",
       " DRC_Chip       675  \n",
       " DRC_PC         184  \n",
       " DRC_Tablet     175  \n",
       " DRC_Console    53   \n",
       " dtype: int64,\n",
       " Non-DRC        20684\n",
       " DRC_Laptop     1172 \n",
       " DRC_Mobile     1035 \n",
       " DRC_Chip       697  \n",
       " DRC_PC         183  \n",
       " DRC_Tablet     176  \n",
       " DRC_Console    56   \n",
       " dtype: int64)"
      ]
     },
     "execution_count": 53,
     "metadata": {},
     "output_type": "execute_result"
    }
   ],
   "source": [
    "pd.Series(labels).value_counts(),pd.Series(pred).value_counts()"
   ]
  },
  {
   "cell_type": "code",
   "execution_count": 54,
   "metadata": {},
   "outputs": [
    {
     "data": {
      "text/plain": [
       "(24003, 24003)"
      ]
     },
     "execution_count": 54,
     "metadata": {},
     "output_type": "execute_result"
    }
   ],
   "source": [
    "len(labels),len(pred)"
   ]
  },
  {
   "cell_type": "code",
   "execution_count": 55,
   "metadata": {},
   "outputs": [],
   "source": [
    "df_confusion = pd.crosstab(pd.Series(labels),pd.Series(pred), rownames=['Actual'], colnames=['Predicted'], margins=True)"
   ]
  },
  {
   "cell_type": "code",
   "execution_count": 56,
   "metadata": {},
   "outputs": [
    {
     "data": {
      "image/png": "[encoded data removed]",
      "text/plain": [
       "<Figure size 720x720 with 2 Axes>"
      ]
     },
     "metadata": {
      "needs_background": "light"
     },
     "output_type": "display_data"
    }
   ],
   "source": [
    "import seaborn as sns\n",
    "import matplotlib.pyplot as plt\n",
    "%matplotlib inline\n",
    "plt.figure(figsize=(10,10))\n",
    "plt.title(\"PRDRC data Blazing Text Model Confusion Matrix\")\n",
    "sns.heatmap(df_confusion,annot=True,fmt='',cmap='Blues');"
   ]
  },
  {
   "cell_type": "code",
   "execution_count": 57,
   "metadata": {},
   "outputs": [
    {
     "name": "stdout",
     "output_type": "stream",
     "text": [
      "\t\tPRDRC - Blazing Text Model Classification Report\n",
      "               precision    recall  f1-score   support\n",
      "\n",
      "    DRC_Chip       0.92      0.95      0.93       675\n",
      " DRC_Console       0.95      1.00      0.97        53\n",
      "  DRC_Laptop       0.96      0.97      0.96      1165\n",
      "  DRC_Mobile       0.99      0.98      0.98      1041\n",
      "      DRC_PC       0.91      0.90      0.90       184\n",
      "  DRC_Tablet       0.85      0.86      0.85       175\n",
      "     Non-DRC       1.00      1.00      1.00     20710\n",
      "\n",
      "    accuracy                           0.99     24003\n",
      "   macro avg       0.94      0.95      0.94     24003\n",
      "weighted avg       0.99      0.99      0.99     24003\n",
      "\n"
     ]
    }
   ],
   "source": [
    "from sklearn.metrics import classification_report\n",
    "print(\"\\t\\tPRDRC - Blazing Text Model Classification Report\\n\",classification_report(pd.Series(labels),pd.Series(pred)))"
   ]
  },
  {
   "cell_type": "markdown",
   "metadata": {},
   "source": [
    "### Stop / Close the Endpoint (Optional)\n",
    "Finally, we should delete the endpoint before we close the notebook if we don't need to keep the endpoint running for serving realtime predictions."
   ]
  },
  {
   "cell_type": "code",
   "execution_count": 146,
   "metadata": {},
   "outputs": [
    {
     "name": "stderr",
     "output_type": "stream",
     "text": [
      "The endpoint attribute has been renamed in sagemaker>=2.\n",
      "See: https://sagemaker.readthedocs.io/en/stable/v2.html for details.\n"
     ]
    }
   ],
   "source": [
    "sess.delete_endpoint(text_classifier.endpoint)"
   ]
  },
  {
   "cell_type": "code",
   "execution_count": null,
   "metadata": {},
   "outputs": [],
   "source": []
  }
 ],
 "metadata": {
  "instance_type": "ml.m5.large",
  "kernelspec": {
   "display_name": "Python 3 (Data Science)",
   "language": "python",
   "name": "python3__SAGEMAKER_INTERNAL__arn:aws:sagemaker:us-west-2:236514542706:image/datascience-1.0"
  },
  "language_info": {
   "codemirror_mode": {
    "name": "ipython",
    "version": 3
   },
   "file_extension": ".py",
   "mimetype": "text/x-python",
   "name": "python",
   "nbconvert_exporter": "python",
   "pygments_lexer": "ipython3",
   "version": "3.7.10"
  },
  "notice": "Copyright 2018 Amazon.com, Inc. or its affiliates. All Rights Reserved.  Licensed under the Apache License, Version 2.0 (the \"License\"). You may not use this file except in compliance with the License. A copy of the License is located at http://aws.amazon.com/apache2.0/ or in the \"license\" file accompanying this file. This file is distributed on an \"AS IS\" BASIS, WITHOUT WARRANTIES OR CONDITIONS OF ANY KIND, either express or implied. See the License for the specific language governing permissions and limitations under the License."
 },
 "nbformat": 4,
 "nbformat_minor": 4
}
