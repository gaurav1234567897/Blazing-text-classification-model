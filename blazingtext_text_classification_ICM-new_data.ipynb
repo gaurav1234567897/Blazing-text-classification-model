{
 "cells": [
  {
   "cell_type": "markdown",
   "metadata": {},
   "source": [
    "## Introduction\n",
    "\n",
    "Text Classification can be used to solve various use-cases like sentiment analysis, spam detection, hashtag prediction etc. This notebook demonstrates the use of SageMaker BlazingText to perform supervised binary/multi class with single or multi label text classification. BlazingText can train the model on more than a billion words in a couple of minutes using a multi-core CPU or a GPU, while achieving performance on par with the state-of-the-art deep learning text classification algorithms. BlazingText extends the fastText text classifier to leverage GPU acceleration using custom CUDA kernels."
   ]
  },
  {
   "cell_type": "markdown",
   "metadata": {},
   "source": [
    "## Setup\n",
    "\n",
    "Let's start by specifying:\n",
    "\n",
    "- The S3 bucket and prefix that you want to use for training and model data. This should be within the same region as the Notebook Instance, training, and hosting. If you don't specify a bucket, SageMaker SDK will create a default bucket following a pre-defined naming convention in the same region. \n",
    "- The IAM role ARN used to give SageMaker access to your data. It can be fetched using the **get_execution_role** method from sagemaker python SDK."
   ]
  },
  {
   "cell_type": "code",
   "execution_count": 1,
   "metadata": {
    "isConfigCell": true
   },
   "outputs": [
    {
     "name": "stdout",
     "output_type": "stream",
     "text": [
      "arn:aws:iam::430758128697:role/service-role/AmazonSageMaker-ExecutionRole-20220308T183116\n",
      "inox-icm-bt\n"
     ]
    }
   ],
   "source": [
    "import sagemaker\n",
    "from sagemaker import get_execution_role\n",
    "import json\n",
    "import boto3\n",
    "import nltk\n",
    "sess = sagemaker.Session()\n",
    "\n",
    "role = get_execution_role()\n",
    "print(\n",
    "    role\n",
    ")  # This is the role that SageMaker would use to leverage AWS resources (S3, CloudWatch) on your behalf\n",
    "\n",
    "bucket = 'inox-icm-bt'  # Replace with your own bucket name if needed\n",
    "print(bucket)\n",
    "prefix = \"blazingtext/new_data/supervised\"  # Replace with the prefix under which you want to store the data if needed"
   ]
  },
  {
   "cell_type": "markdown",
   "metadata": {},
   "source": [
    "### Data Preparation\n",
    "\n",
    "Now we'll download a dataset from the web on which we want to train the text classification model. BlazingText expects a single preprocessed text file with space separated tokens and each line of the file should contain a single sentence and the corresponding label(s) prefixed by \"\\__label\\__\".\n",
    "\n",
    "In this example, let us train the text classification model on the [DBPedia Ontology Dataset](https://wiki.dbpedia.org/services-resources/dbpedia-data-set-2014#2) as done by [Zhang et al](https://arxiv.org/pdf/1509.01626.pdf). The DBpedia ontology dataset is constructed by picking 14 nonoverlapping classes from DBpedia 2014. It has 560,000 training samples and 70,000 testing samples. The fields we used for this dataset contain title and abstract of each Wikipedia article. "
   ]
  },
  {
   "cell_type": "code",
   "execution_count": 2,
   "metadata": {},
   "outputs": [],
   "source": [
    "import pandas as pd\n",
    "import numpy as np\n",
    "import glob\n",
    "import os\n",
    "import boto3"
   ]
  },
  {
   "cell_type": "code",
   "execution_count": 3,
   "metadata": {},
   "outputs": [],
   "source": [
    "!mkdir -p icm_data\n",
    "# Declare bucket name, remote file, and destination\n",
    "my_bucket = 'inox-icm-bt'\n",
    "# Connect to S3 bucket and download file\n",
    "s3 = boto3.resource('s3')\n",
    "s3.Bucket(my_bucket).download_file('icm_data/Advertisement.txt', 'icm_data/Advertisement.txt')\n",
    "s3.Bucket(my_bucket).download_file('icm_data/CallCentreServices.txt', 'icm_data/CallCentreServices.txt')\n",
    "s3.Bucket(my_bucket).download_file('icm_data/Commissions.txt', 'icm_data/Commissions.txt')\n",
    "s3.Bucket(my_bucket).download_file('icm_data/GeneralContractualServices.txt', 'icm_data/GeneralContractualServices.txt')\n",
    "s3.Bucket(my_bucket).download_file('icm_data/Goods.txt', 'icm_data/Goods.txt')\n",
    "s3.Bucket(my_bucket).download_file('icm_data/NonTaxable.txt', 'icm_data/NonTaxable.txt')\n",
    "s3.Bucket(my_bucket).download_file('icm_data/Professional.txt', 'icm_data/Professional.txt')\n",
    "s3.Bucket(my_bucket).download_file('icm_data/Rent_Ia.txt', 'icm_data/Rent_Ia.txt')\n",
    "s3.Bucket(my_bucket).download_file('icm_data/Rent_Ib.txt', 'icm_data/Rent_Ib.txt')\n",
    "s3.Bucket(my_bucket).download_file('icm_data/Royalty.txt', 'icm_data/Royalty.txt')\n",
    "s3.Bucket(my_bucket).download_file('icm_data/RoyaltyOther.txt', 'icm_data/RoyaltyOther.txt')\n",
    "s3.Bucket(my_bucket).download_file('icm_data/Technical.txt', 'icm_data/Technical.txt')\n",
    "s3.Bucket(my_bucket).download_file('icm_data/Transportation.txt', 'icm_data/Transportation.txt')\n"
   ]
  },
  {
   "cell_type": "code",
   "execution_count": 4,
   "metadata": {},
   "outputs": [
    {
     "data": {
      "text/plain": [
       "['/root/other/prep-model-to-use/icm_data/GeneralContractualServices.txt',\n",
       " '/root/other/prep-model-to-use/icm_data/Rent_Ia.txt',\n",
       " '/root/other/prep-model-to-use/icm_data/RoyaltyOther.txt',\n",
       " '/root/other/prep-model-to-use/icm_data/Royalty.txt',\n",
       " '/root/other/prep-model-to-use/icm_data/Commissions.txt',\n",
       " '/root/other/prep-model-to-use/icm_data/NonTaxable.txt',\n",
       " '/root/other/prep-model-to-use/icm_data/Goods.txt',\n",
       " '/root/other/prep-model-to-use/icm_data/Transportation.txt',\n",
       " '/root/other/prep-model-to-use/icm_data/Rent_Ib.txt',\n",
       " '/root/other/prep-model-to-use/icm_data/Technical.txt',\n",
       " '/root/other/prep-model-to-use/icm_data/Advertisement.txt',\n",
       " '/root/other/prep-model-to-use/icm_data/Professional.txt',\n",
       " '/root/other/prep-model-to-use/icm_data/CallCentreServices.txt']"
      ]
     },
     "execution_count": 4,
     "metadata": {},
     "output_type": "execute_result"
    }
   ],
   "source": [
    "file_list = glob.glob(os.path.join(os.getcwd(), \"icm_data\", \"*.txt\"))\n",
    "file_list"
   ]
  },
  {
   "cell_type": "markdown",
   "metadata": {},
   "source": [
    "# Routing the data from text file to dataframe"
   ]
  },
  {
   "cell_type": "code",
   "execution_count": 5,
   "metadata": {},
   "outputs": [],
   "source": [
    "df = pd.DataFrame()\n",
    "for tag in file_list:\n",
    "    data = pd.read_csv(tag,sep='\\n',header=None,names=['Text','label'])\n",
    "    data['label']=tag.split('/')[-1][:-4]\n",
    "    df = pd.concat([df,data],axis=0)"
   ]
  },
  {
   "cell_type": "code",
   "execution_count": 6,
   "metadata": {},
   "outputs": [
    {
     "name": "stderr",
     "output_type": "stream",
     "text": [
      "/opt/conda/lib/python3.7/site-packages/ipykernel_launcher.py:1: FutureWarning: Passing a negative integer is deprecated in version 1.0 and will not be supported in future version. Instead, use None to not limit the column width.\n",
      "  \"\"\"Entry point for launching an IPython kernel.\n"
     ]
    }
   ],
   "source": [
    "pd.set_option(\"display.max_colwidth\", -1)"
   ]
  },
  {
   "cell_type": "code",
   "execution_count": 7,
   "metadata": {
    "scrolled": true
   },
   "outputs": [
    {
     "data": {
      "text/html": [
       "<div>\n",
       "<style scoped>\n",
       "    .dataframe tbody tr th:only-of-type {\n",
       "        vertical-align: middle;\n",
       "    }\n",
       "\n",
       "    .dataframe tbody tr th {\n",
       "        vertical-align: top;\n",
       "    }\n",
       "\n",
       "    .dataframe thead th {\n",
       "        text-align: right;\n",
       "    }\n",
       "</style>\n",
       "<table border=\"1\" class=\"dataframe\">\n",
       "  <thead>\n",
       "    <tr style=\"text-align: right;\">\n",
       "      <th></th>\n",
       "      <th>Text</th>\n",
       "      <th>label</th>\n",
       "    </tr>\n",
       "  </thead>\n",
       "  <tbody>\n",
       "    <tr>\n",
       "      <th>0</th>\n",
       "      <td>\\t3 Nos. VRC AMC contract for SDEE.</td>\n",
       "      <td>GeneralContractualServices</td>\n",
       "    </tr>\n",
       "    <tr>\n",
       "      <th>1</th>\n",
       "      <td>\\tAMC for 10 Nos of VRC's 1000KG</td>\n",
       "      <td>GeneralContractualServices</td>\n",
       "    </tr>\n",
       "    <tr>\n",
       "      <th>2</th>\n",
       "      <td>\\tAMC for 3 No's VRC installed at SJAB-FC from the 1st September 2018 to 31st August 2019</td>\n",
       "      <td>GeneralContractualServices</td>\n",
       "    </tr>\n",
       "    <tr>\n",
       "      <th>3</th>\n",
       "      <td>\\tAMC for 3 No's VRC installed at SJAB-FC from the 1st September 2019 to 31st August 2020</td>\n",
       "      <td>GeneralContractualServices</td>\n",
       "    </tr>\n",
       "  </tbody>\n",
       "</table>\n",
       "</div>"
      ],
      "text/plain": [
       "                                                                                        Text  \\\n",
       "0  \\t3 Nos. VRC AMC contract for SDEE.                                                         \n",
       "1  \\tAMC for 10 Nos of VRC's 1000KG                                                            \n",
       "2  \\tAMC for 3 No's VRC installed at SJAB-FC from the 1st September 2018 to 31st August 2019   \n",
       "3  \\tAMC for 3 No's VRC installed at SJAB-FC from the 1st September 2019 to 31st August 2020   \n",
       "\n",
       "                        label  \n",
       "0  GeneralContractualServices  \n",
       "1  GeneralContractualServices  \n",
       "2  GeneralContractualServices  \n",
       "3  GeneralContractualServices  "
      ]
     },
     "execution_count": 7,
     "metadata": {},
     "output_type": "execute_result"
    }
   ],
   "source": [
    "df.head(4)"
   ]
  },
  {
   "cell_type": "code",
   "execution_count": 8,
   "metadata": {},
   "outputs": [],
   "source": [
    "# we need to reshuffle the dataframe\n",
    "df = df.sample(frac = 1)"
   ]
  },
  {
   "cell_type": "code",
   "execution_count": 9,
   "metadata": {
    "scrolled": true
   },
   "outputs": [
    {
     "data": {
      "text/html": [
       "<div>\n",
       "<style scoped>\n",
       "    .dataframe tbody tr th:only-of-type {\n",
       "        vertical-align: middle;\n",
       "    }\n",
       "\n",
       "    .dataframe tbody tr th {\n",
       "        vertical-align: top;\n",
       "    }\n",
       "\n",
       "    .dataframe thead th {\n",
       "        text-align: right;\n",
       "    }\n",
       "</style>\n",
       "<table border=\"1\" class=\"dataframe\">\n",
       "  <thead>\n",
       "    <tr style=\"text-align: right;\">\n",
       "      <th></th>\n",
       "      <th>Text</th>\n",
       "      <th>label</th>\n",
       "    </tr>\n",
       "  </thead>\n",
       "  <tbody>\n",
       "    <tr>\n",
       "      <th>10946</th>\n",
       "      <td>60840 ;Batch&lt;2955&gt;/Line&lt;2597&gt;-44013002-Health Club-Gym Bill-Company</td>\n",
       "      <td>NonTaxable</td>\n",
       "    </tr>\n",
       "    <tr>\n",
       "      <th>2497</th>\n",
       "      <td>20553 Refund for order: 403-1869284-1935521, sellerId 11647761925, amount 1050.00 INR</td>\n",
       "      <td>NonTaxable</td>\n",
       "    </tr>\n",
       "    <tr>\n",
       "      <th>4</th>\n",
       "      <td>16999 Branding for HBDA station</td>\n",
       "      <td>Advertisement</td>\n",
       "    </tr>\n",
       "  </tbody>\n",
       "</table>\n",
       "</div>"
      ],
      "text/plain": [
       "                                                                                        Text  \\\n",
       "10946  60840 ;Batch<2955>/Line<2597>-44013002-Health Club-Gym Bill-Company                     \n",
       "2497   20553 Refund for order: 403-1869284-1935521, sellerId 11647761925, amount 1050.00 INR   \n",
       "4      16999 Branding for HBDA station                                                         \n",
       "\n",
       "               label  \n",
       "10946  NonTaxable     \n",
       "2497   NonTaxable     \n",
       "4      Advertisement  "
      ]
     },
     "execution_count": 9,
     "metadata": {},
     "output_type": "execute_result"
    }
   ],
   "source": [
    "df.head(3)"
   ]
  },
  {
   "cell_type": "code",
   "execution_count": 10,
   "metadata": {},
   "outputs": [
    {
     "data": {
      "text/plain": [
       "NonTaxable                    38564\n",
       "Goods                         7777 \n",
       "Rent_Ia                       5185 \n",
       "GeneralContractualServices    4678 \n",
       "Rent_Ib                       2739 \n",
       "Professional                  1774 \n",
       "Transportation                1339 \n",
       "Advertisement                 841  \n",
       "RoyaltyOther                  262  \n",
       "Technical                     57   \n",
       "CallCentreServices            36   \n",
       "Commissions                   12   \n",
       "Royalty                       5    \n",
       "Name: label, dtype: int64"
      ]
     },
     "execution_count": 10,
     "metadata": {},
     "output_type": "execute_result"
    }
   ],
   "source": [
    "df.label.value_counts()"
   ]
  },
  {
   "cell_type": "code",
   "execution_count": 11,
   "metadata": {
    "scrolled": true
   },
   "outputs": [
    {
     "data": {
      "text/plain": [
       "(63269, 2)"
      ]
     },
     "execution_count": 11,
     "metadata": {},
     "output_type": "execute_result"
    }
   ],
   "source": [
    "# Checking for Duplicate rows\n",
    "df.shape"
   ]
  },
  {
   "cell_type": "code",
   "execution_count": 12,
   "metadata": {},
   "outputs": [
    {
     "data": {
      "text/plain": [
       "(62627, 2)"
      ]
     },
     "execution_count": 12,
     "metadata": {},
     "output_type": "execute_result"
    }
   ],
   "source": [
    "### Dropping Duplicate rows\n",
    "df = df.drop_duplicates(subset = ['Text', 'label']).reset_index(drop = True)\n",
    "df.shape"
   ]
  },
  {
   "cell_type": "code",
   "execution_count": 13,
   "metadata": {},
   "outputs": [
    {
     "data": {
      "text/plain": [
       "NonTaxable                    38443\n",
       "Goods                         7584 \n",
       "Rent_Ia                       5173 \n",
       "GeneralContractualServices    4463 \n",
       "Rent_Ib                       2723 \n",
       "Professional                  1744 \n",
       "Transportation                1311 \n",
       "Advertisement                 816  \n",
       "RoyaltyOther                  262  \n",
       "Technical                     57   \n",
       "CallCentreServices            34   \n",
       "Commissions                   12   \n",
       "Royalty                       5    \n",
       "Name: label, dtype: int64"
      ]
     },
     "execution_count": 13,
     "metadata": {},
     "output_type": "execute_result"
    }
   ],
   "source": [
    "df.label.value_counts()"
   ]
  },
  {
   "cell_type": "markdown",
   "metadata": {},
   "source": [
    "# Preprocessing the text"
   ]
  },
  {
   "cell_type": "markdown",
   "metadata": {},
   "source": [
    "#### Removing Commissions from training and testing dataset due to high imbalance"
   ]
  },
  {
   "cell_type": "code",
   "execution_count": 14,
   "metadata": {
    "scrolled": true
   },
   "outputs": [
    {
     "data": {
      "text/html": [
       "<div>\n",
       "<style scoped>\n",
       "    .dataframe tbody tr th:only-of-type {\n",
       "        vertical-align: middle;\n",
       "    }\n",
       "\n",
       "    .dataframe tbody tr th {\n",
       "        vertical-align: top;\n",
       "    }\n",
       "\n",
       "    .dataframe thead th {\n",
       "        text-align: right;\n",
       "    }\n",
       "</style>\n",
       "<table border=\"1\" class=\"dataframe\">\n",
       "  <thead>\n",
       "    <tr style=\"text-align: right;\">\n",
       "      <th></th>\n",
       "      <th>Text</th>\n",
       "      <th>label</th>\n",
       "    </tr>\n",
       "  </thead>\n",
       "  <tbody>\n",
       "    <tr>\n",
       "      <th>0</th>\n",
       "      <td>60840 ;Batch&lt;2955&gt;/Line&lt;2597&gt;-44013002-Health Club-Gym Bill-Company</td>\n",
       "      <td>NonTaxable</td>\n",
       "    </tr>\n",
       "    <tr>\n",
       "      <th>1</th>\n",
       "      <td>20553 Refund for order: 403-1869284-1935521, sellerId 11647761925, amount 1050.00 INR</td>\n",
       "      <td>NonTaxable</td>\n",
       "    </tr>\n",
       "    <tr>\n",
       "      <th>2</th>\n",
       "      <td>16999 Branding for HBDA station</td>\n",
       "      <td>Advertisement</td>\n",
       "    </tr>\n",
       "  </tbody>\n",
       "</table>\n",
       "</div>"
      ],
      "text/plain": [
       "                                                                                    Text  \\\n",
       "0  60840 ;Batch<2955>/Line<2597>-44013002-Health Club-Gym Bill-Company                     \n",
       "1  20553 Refund for order: 403-1869284-1935521, sellerId 11647761925, amount 1050.00 INR   \n",
       "2  16999 Branding for HBDA station                                                         \n",
       "\n",
       "           label  \n",
       "0  NonTaxable     \n",
       "1  NonTaxable     \n",
       "2  Advertisement  "
      ]
     },
     "execution_count": 14,
     "metadata": {},
     "output_type": "execute_result"
    }
   ],
   "source": [
    "df.head(3)"
   ]
  },
  {
   "cell_type": "markdown",
   "metadata": {},
   "source": [
    "#### Feature Engineering FE"
   ]
  },
  {
   "cell_type": "code",
   "execution_count": 15,
   "metadata": {},
   "outputs": [],
   "source": [
    "all_categories_df = df"
   ]
  },
  {
   "cell_type": "code",
   "execution_count": 16,
   "metadata": {
    "scrolled": true
   },
   "outputs": [
    {
     "data": {
      "text/plain": [
       "NonTaxable                    38443\n",
       "Goods                         7584 \n",
       "Rent_Ia                       5173 \n",
       "GeneralContractualServices    4463 \n",
       "Rent_Ib                       2723 \n",
       "Professional                  1744 \n",
       "Transportation                1311 \n",
       "Advertisement                 816  \n",
       "RoyaltyOther                  262  \n",
       "Technical                     57   \n",
       "CallCentreServices            34   \n",
       "Commissions                   12   \n",
       "Royalty                       5    \n",
       "Name: label, dtype: int64"
      ]
     },
     "execution_count": 16,
     "metadata": {},
     "output_type": "execute_result"
    }
   ],
   "source": [
    "all_categories_df[\"label\"].value_counts()"
   ]
  },
  {
   "cell_type": "markdown",
   "metadata": {},
   "source": [
    "Let's calculate number of words for each row."
   ]
  },
  {
   "cell_type": "code",
   "execution_count": 17,
   "metadata": {},
   "outputs": [
    {
     "data": {
      "text/html": [
       "<div>\n",
       "<style scoped>\n",
       "    .dataframe tbody tr th:only-of-type {\n",
       "        vertical-align: middle;\n",
       "    }\n",
       "\n",
       "    .dataframe tbody tr th {\n",
       "        vertical-align: top;\n",
       "    }\n",
       "\n",
       "    .dataframe thead th {\n",
       "        text-align: right;\n",
       "    }\n",
       "</style>\n",
       "<table border=\"1\" class=\"dataframe\">\n",
       "  <thead>\n",
       "    <tr style=\"text-align: right;\">\n",
       "      <th></th>\n",
       "      <th>Text</th>\n",
       "      <th>label</th>\n",
       "    </tr>\n",
       "  </thead>\n",
       "  <tbody>\n",
       "    <tr>\n",
       "      <th>0</th>\n",
       "      <td>60840 ;Batch&lt;2955&gt;/Line&lt;2597&gt;-44013002-Health Club-Gym Bill-Company</td>\n",
       "      <td>NonTaxable</td>\n",
       "    </tr>\n",
       "    <tr>\n",
       "      <th>1</th>\n",
       "      <td>20553 Refund for order: 403-1869284-1935521, sellerId 11647761925, amount 1050.00 INR</td>\n",
       "      <td>NonTaxable</td>\n",
       "    </tr>\n",
       "  </tbody>\n",
       "</table>\n",
       "</div>"
      ],
      "text/plain": [
       "                                                                                    Text  \\\n",
       "0  60840 ;Batch<2955>/Line<2597>-44013002-Health Club-Gym Bill-Company                     \n",
       "1  20553 Refund for order: 403-1869284-1935521, sellerId 11647761925, amount 1050.00 INR   \n",
       "\n",
       "        label  \n",
       "0  NonTaxable  \n",
       "1  NonTaxable  "
      ]
     },
     "execution_count": 17,
     "metadata": {},
     "output_type": "execute_result"
    }
   ],
   "source": [
    "all_categories_df.head(2)"
   ]
  },
  {
   "cell_type": "code",
   "execution_count": 18,
   "metadata": {},
   "outputs": [
    {
     "data": {
      "text/html": [
       "<div>\n",
       "<style scoped>\n",
       "    .dataframe tbody tr th:only-of-type {\n",
       "        vertical-align: middle;\n",
       "    }\n",
       "\n",
       "    .dataframe tbody tr th {\n",
       "        vertical-align: top;\n",
       "    }\n",
       "\n",
       "    .dataframe thead th {\n",
       "        text-align: right;\n",
       "    }\n",
       "</style>\n",
       "<table border=\"1\" class=\"dataframe\">\n",
       "  <thead>\n",
       "    <tr style=\"text-align: right;\">\n",
       "      <th></th>\n",
       "      <th>Text</th>\n",
       "      <th>label</th>\n",
       "      <th>word_count</th>\n",
       "    </tr>\n",
       "  </thead>\n",
       "  <tbody>\n",
       "    <tr>\n",
       "      <th>0</th>\n",
       "      <td>60840 ;Batch&lt;2955&gt;/Line&lt;2597&gt;-44013002-Health Club-Gym Bill-Company</td>\n",
       "      <td>NonTaxable</td>\n",
       "      <td>4</td>\n",
       "    </tr>\n",
       "    <tr>\n",
       "      <th>1</th>\n",
       "      <td>20553 Refund for order: 403-1869284-1935521, sellerId 11647761925, amount 1050.00 INR</td>\n",
       "      <td>NonTaxable</td>\n",
       "      <td>10</td>\n",
       "    </tr>\n",
       "    <tr>\n",
       "      <th>2</th>\n",
       "      <td>16999 Branding for HBDA station</td>\n",
       "      <td>Advertisement</td>\n",
       "      <td>5</td>\n",
       "    </tr>\n",
       "    <tr>\n",
       "      <th>3</th>\n",
       "      <td>66030 ;Batch&lt;4300&gt;/Line&lt;4096&gt;-66398982-Individual Meals-OFFICE WORK-Company</td>\n",
       "      <td>NonTaxable</td>\n",
       "      <td>4</td>\n",
       "    </tr>\n",
       "    <tr>\n",
       "      <th>4</th>\n",
       "      <td>14873\\tTOWARDS SNACKS &amp; BERVERAGES VENDING MANCHINE CHAREGS TDS 194I 2%</td>\n",
       "      <td>Rent_Ia</td>\n",
       "      <td>11</td>\n",
       "    </tr>\n",
       "  </tbody>\n",
       "</table>\n",
       "</div>"
      ],
      "text/plain": [
       "                                                                                    Text  \\\n",
       "0  60840 ;Batch<2955>/Line<2597>-44013002-Health Club-Gym Bill-Company                     \n",
       "1  20553 Refund for order: 403-1869284-1935521, sellerId 11647761925, amount 1050.00 INR   \n",
       "2  16999 Branding for HBDA station                                                         \n",
       "3  66030 ;Batch<4300>/Line<4096>-66398982-Individual Meals-OFFICE WORK-Company             \n",
       "4  14873\\tTOWARDS SNACKS & BERVERAGES VENDING MANCHINE CHAREGS TDS 194I 2%                 \n",
       "\n",
       "           label  word_count  \n",
       "0  NonTaxable     4           \n",
       "1  NonTaxable     10          \n",
       "2  Advertisement  5           \n",
       "3  NonTaxable     4           \n",
       "4  Rent_Ia        11          "
      ]
     },
     "execution_count": 18,
     "metadata": {},
     "output_type": "execute_result"
    }
   ],
   "source": [
    "all_categories_df[\"word_count\"] = all_categories_df[\"Text\"].apply(lambda x: len(str(x).split()))\n",
    "all_categories_df.head()"
   ]
  },
  {
   "cell_type": "markdown",
   "metadata": {},
   "source": [
    "Let's get basic statistics about the dataset."
   ]
  },
  {
   "cell_type": "code",
   "execution_count": 19,
   "metadata": {},
   "outputs": [
    {
     "data": {
      "text/plain": [
       "{'count': 62627.0,\n",
       " 'mean': 7.635732192185479,\n",
       " 'std': 4.8250174359064095,\n",
       " 'min': 1.0,\n",
       " '25%': 4.0,\n",
       " '50%': 7.0,\n",
       " '75%': 10.0,\n",
       " 'max': 50.0}"
      ]
     },
     "execution_count": 19,
     "metadata": {},
     "output_type": "execute_result"
    }
   ],
   "source": [
    "stat=dict(all_categories_df[\"word_count\"].describe())\n",
    "stat"
   ]
  },
  {
   "cell_type": "code",
   "execution_count": 20,
   "metadata": {},
   "outputs": [
    {
     "name": "stdout",
     "output_type": "stream",
     "text": [
      "19.0\n"
     ]
    }
   ],
   "source": [
    "Rule_IQR_Range = stat['75%'] + 1.5 * (stat['75%']-stat['25%'])\n",
    "print(Rule_IQR_Range)"
   ]
  },
  {
   "cell_type": "code",
   "execution_count": 21,
   "metadata": {},
   "outputs": [],
   "source": [
    "# import matplotlib.pyplot as plt\n",
    "# %matplotlib inline\n",
    "# plt.figure(figsize = (15,6))\n",
    "# all_categories_df[\"word_count\"].plot()"
   ]
  },
  {
   "cell_type": "markdown",
   "metadata": {},
   "source": [
    "We can see that the mean value is around 8 words. However, there are outliers, such as a text with 50 words. This can make it harder for the model to result in good performance. We will take care to drop those rows."
   ]
  },
  {
   "cell_type": "markdown",
   "metadata": {},
   "source": [
    "Let's drop empty rows first."
   ]
  },
  {
   "cell_type": "code",
   "execution_count": 22,
   "metadata": {},
   "outputs": [
    {
     "name": "stdout",
     "output_type": "stream",
     "text": [
      "25\n"
     ]
    }
   ],
   "source": [
    "no_text = all_categories_df[all_categories_df[\"word_count\"] == 1]\n",
    "print(len(no_text))\n",
    "\n",
    "# drop these rows\n",
    "all_categories_df.drop(no_text.index, inplace=True)"
   ]
  },
  {
   "cell_type": "markdown",
   "metadata": {},
   "source": [
    "Let's drop the rows that are longer than 20 words, as it is a length close to the mean value of the word count. This is done to make it easy for the model to train without outliers. "
   ]
  },
  {
   "cell_type": "code",
   "execution_count": 23,
   "metadata": {},
   "outputs": [
    {
     "name": "stdout",
     "output_type": "stream",
     "text": [
      "1421\n"
     ]
    }
   ],
   "source": [
    "long_text = all_categories_df[(all_categories_df[\"word_count\"] > 20)]\n",
    "print(len(long_text))\n",
    "\n",
    "# drop these rows\n",
    "all_categories_df.drop(long_text.index, inplace=True)"
   ]
  },
  {
   "cell_type": "code",
   "execution_count": 24,
   "metadata": {},
   "outputs": [
    {
     "data": {
      "text/plain": [
       "NonTaxable                    38259\n",
       "Goods                         7269 \n",
       "Rent_Ia                       4913 \n",
       "GeneralContractualServices    4216 \n",
       "Rent_Ib                       2442 \n",
       "Professional                  1675 \n",
       "Transportation                1279 \n",
       "Advertisement                 772  \n",
       "RoyaltyOther                  259  \n",
       "Technical                     46   \n",
       "CallCentreServices            34   \n",
       "Commissions                   12   \n",
       "Royalty                       5    \n",
       "Name: label, dtype: int64"
      ]
     },
     "execution_count": 24,
     "metadata": {},
     "output_type": "execute_result"
    }
   ],
   "source": [
    "all_categories_df[\"label\"].value_counts()"
   ]
  },
  {
   "cell_type": "markdown",
   "metadata": {},
   "source": [
    "Let's get basic statistics about the dataset after our outliers fixes."
   ]
  },
  {
   "cell_type": "code",
   "execution_count": 25,
   "metadata": {},
   "outputs": [
    {
     "data": {
      "text/plain": [
       "count    61181.000000\n",
       "mean     7.213269    \n",
       "std      3.895428    \n",
       "min      2.000000    \n",
       "25%      4.000000    \n",
       "50%      7.000000    \n",
       "75%      10.000000   \n",
       "max      20.000000   \n",
       "Name: word_count, dtype: float64"
      ]
     },
     "execution_count": 25,
     "metadata": {},
     "output_type": "execute_result"
    }
   ],
   "source": [
    "all_categories_df[\"word_count\"].describe()"
   ]
  },
  {
   "cell_type": "code",
   "execution_count": 26,
   "metadata": {},
   "outputs": [
    {
     "data": {
      "text/plain": [
       "<matplotlib.axes._subplots.AxesSubplot at 0x7fc0be416b90>"
      ]
     },
     "execution_count": 26,
     "metadata": {},
     "output_type": "execute_result"
    }
   ],
   "source": [
    "# plt.figure(figsize = (15,8))\n",
    "all_categories_df[\"word_count\"].plot()"
   ]
  },
  {
   "cell_type": "markdown",
   "metadata": {},
   "source": [
    "This looks much more balanced."
   ]
  },
  {
   "cell_type": "markdown",
   "metadata": {},
   "source": [
    "Now we drop the `word_count` columns as we will not need it anymore."
   ]
  },
  {
   "cell_type": "code",
   "execution_count": 27,
   "metadata": {},
   "outputs": [],
   "source": [
    "all_categories_df.drop(columns=\"word_count\", axis=1, inplace=True)"
   ]
  },
  {
   "cell_type": "code",
   "execution_count": 28,
   "metadata": {},
   "outputs": [
    {
     "data": {
      "text/html": [
       "<div>\n",
       "<style scoped>\n",
       "    .dataframe tbody tr th:only-of-type {\n",
       "        vertical-align: middle;\n",
       "    }\n",
       "\n",
       "    .dataframe tbody tr th {\n",
       "        vertical-align: top;\n",
       "    }\n",
       "\n",
       "    .dataframe thead th {\n",
       "        text-align: right;\n",
       "    }\n",
       "</style>\n",
       "<table border=\"1\" class=\"dataframe\">\n",
       "  <thead>\n",
       "    <tr style=\"text-align: right;\">\n",
       "      <th></th>\n",
       "      <th>Text</th>\n",
       "      <th>label</th>\n",
       "    </tr>\n",
       "  </thead>\n",
       "  <tbody>\n",
       "    <tr>\n",
       "      <th>0</th>\n",
       "      <td>60840 ;Batch&lt;2955&gt;/Line&lt;2597&gt;-44013002-Health Club-Gym Bill-Company</td>\n",
       "      <td>NonTaxable</td>\n",
       "    </tr>\n",
       "    <tr>\n",
       "      <th>1</th>\n",
       "      <td>20553 Refund for order: 403-1869284-1935521, sellerId 11647761925, amount 1050.00 INR</td>\n",
       "      <td>NonTaxable</td>\n",
       "    </tr>\n",
       "    <tr>\n",
       "      <th>2</th>\n",
       "      <td>16999 Branding for HBDA station</td>\n",
       "      <td>Advertisement</td>\n",
       "    </tr>\n",
       "  </tbody>\n",
       "</table>\n",
       "</div>"
      ],
      "text/plain": [
       "                                                                                    Text  \\\n",
       "0  60840 ;Batch<2955>/Line<2597>-44013002-Health Club-Gym Bill-Company                     \n",
       "1  20553 Refund for order: 403-1869284-1935521, sellerId 11647761925, amount 1050.00 INR   \n",
       "2  16999 Branding for HBDA station                                                         \n",
       "\n",
       "           label  \n",
       "0  NonTaxable     \n",
       "1  NonTaxable     \n",
       "2  Advertisement  "
      ]
     },
     "execution_count": 28,
     "metadata": {},
     "output_type": "execute_result"
    }
   ],
   "source": [
    "all_categories_df.head(3)"
   ]
  },
  {
   "cell_type": "code",
   "execution_count": 29,
   "metadata": {},
   "outputs": [],
   "source": [
    "# split imbalanced dataset into train and test sets with stratification\n",
    "from sklearn.model_selection import train_test_split\n",
    "# split into train test sets\n",
    "train, test = train_test_split(df, test_size=0.02, random_state=6)\n",
    "# train = all_categories_df.copy()\n",
    "# test = all_categories_df.sample(frac = .06)"
   ]
  },
  {
   "cell_type": "code",
   "execution_count": 30,
   "metadata": {},
   "outputs": [
    {
     "data": {
      "text/plain": [
       "(NonTaxable                    782\n",
       " Goods                         147\n",
       " Rent_Ia                       94 \n",
       " GeneralContractualServices    70 \n",
       " Rent_Ib                       52 \n",
       " Professional                  33 \n",
       " Transportation                25 \n",
       " Advertisement                 13 \n",
       " RoyaltyOther                  7  \n",
       " Royalty                       1  \n",
       " Name: label, dtype: int64,\n",
       " (1224, 2))"
      ]
     },
     "execution_count": 30,
     "metadata": {},
     "output_type": "execute_result"
    }
   ],
   "source": [
    "test.label.value_counts(),test.shape"
   ]
  },
  {
   "cell_type": "code",
   "execution_count": 31,
   "metadata": {},
   "outputs": [
    {
     "data": {
      "text/plain": [
       "(NonTaxable                    37477\n",
       " Goods                         7122 \n",
       " Rent_Ia                       4819 \n",
       " GeneralContractualServices    4146 \n",
       " Rent_Ib                       2390 \n",
       " Professional                  1642 \n",
       " Transportation                1254 \n",
       " Advertisement                 759  \n",
       " RoyaltyOther                  252  \n",
       " Technical                     46   \n",
       " CallCentreServices            34   \n",
       " Commissions                   12   \n",
       " Royalty                       4    \n",
       " Name: label, dtype: int64,\n",
       " (59957, 2))"
      ]
     },
     "execution_count": 31,
     "metadata": {},
     "output_type": "execute_result"
    }
   ],
   "source": [
    "train.label.value_counts(),train.shape"
   ]
  },
  {
   "cell_type": "code",
   "execution_count": 32,
   "metadata": {},
   "outputs": [
    {
     "data": {
      "text/html": [
       "<div>\n",
       "<style scoped>\n",
       "    .dataframe tbody tr th:only-of-type {\n",
       "        vertical-align: middle;\n",
       "    }\n",
       "\n",
       "    .dataframe tbody tr th {\n",
       "        vertical-align: top;\n",
       "    }\n",
       "\n",
       "    .dataframe thead th {\n",
       "        text-align: right;\n",
       "    }\n",
       "</style>\n",
       "<table border=\"1\" class=\"dataframe\">\n",
       "  <thead>\n",
       "    <tr style=\"text-align: right;\">\n",
       "      <th></th>\n",
       "      <th>Text</th>\n",
       "      <th>label</th>\n",
       "    </tr>\n",
       "  </thead>\n",
       "  <tbody>\n",
       "    <tr>\n",
       "      <th>33009</th>\n",
       "      <td>60840 ;Batch&lt;3036&gt;/Line&lt;4117&gt;-45276292-Health Club--Company</td>\n",
       "      <td>NonTaxable</td>\n",
       "    </tr>\n",
       "    <tr>\n",
       "      <th>52973</th>\n",
       "      <td>66030 ;Batch&lt;3903&gt;/Line&lt;18401&gt;-59742725-Individual Meals--Company</td>\n",
       "      <td>NonTaxable</td>\n",
       "    </tr>\n",
       "  </tbody>\n",
       "</table>\n",
       "</div>"
      ],
      "text/plain": [
       "                                                                    Text  \\\n",
       "33009  60840 ;Batch<3036>/Line<4117>-45276292-Health Club--Company         \n",
       "52973  66030 ;Batch<3903>/Line<18401>-59742725-Individual Meals--Company   \n",
       "\n",
       "            label  \n",
       "33009  NonTaxable  \n",
       "52973  NonTaxable  "
      ]
     },
     "execution_count": 32,
     "metadata": {},
     "output_type": "execute_result"
    }
   ],
   "source": [
    "train.head(2)"
   ]
  },
  {
   "cell_type": "code",
   "execution_count": 33,
   "metadata": {},
   "outputs": [],
   "source": [
    "# train.drop(train[train.label==\"Royalty\"].index,inplace = True)"
   ]
  },
  {
   "cell_type": "code",
   "execution_count": 34,
   "metadata": {},
   "outputs": [
    {
     "data": {
      "text/plain": [
       "(59957, 2)"
      ]
     },
     "execution_count": 34,
     "metadata": {},
     "output_type": "execute_result"
    }
   ],
   "source": [
    "train.shape"
   ]
  },
  {
   "cell_type": "code",
   "execution_count": 35,
   "metadata": {},
   "outputs": [],
   "source": [
    "# we need to reshuffle the dataframe\n",
    "train = train.sample(frac = 1)"
   ]
  },
  {
   "cell_type": "code",
   "execution_count": 36,
   "metadata": {},
   "outputs": [
    {
     "data": {
      "text/html": [
       "<div>\n",
       "<style scoped>\n",
       "    .dataframe tbody tr th:only-of-type {\n",
       "        vertical-align: middle;\n",
       "    }\n",
       "\n",
       "    .dataframe tbody tr th {\n",
       "        vertical-align: top;\n",
       "    }\n",
       "\n",
       "    .dataframe thead th {\n",
       "        text-align: right;\n",
       "    }\n",
       "</style>\n",
       "<table border=\"1\" class=\"dataframe\">\n",
       "  <thead>\n",
       "    <tr style=\"text-align: right;\">\n",
       "      <th></th>\n",
       "      <th>Text</th>\n",
       "      <th>label</th>\n",
       "    </tr>\n",
       "  </thead>\n",
       "  <tbody>\n",
       "    <tr>\n",
       "      <th>19773</th>\n",
       "      <td>61110 Towards Aug ART Collateral print and dispatch Jaipur</td>\n",
       "      <td>Goods</td>\n",
       "    </tr>\n",
       "    <tr>\n",
       "      <th>25671</th>\n",
       "      <td>60840 ;Batch&lt;3024&gt;/Line&lt;5271&gt;-45125904-Health Club-Employee FItness-Company</td>\n",
       "      <td>NonTaxable</td>\n",
       "    </tr>\n",
       "    <tr>\n",
       "      <th>3046</th>\n",
       "      <td>16999\\tTOWARDS PROJECT MANAGEMNT CABLING SERVICES TDS 194J-10%</td>\n",
       "      <td>Professional</td>\n",
       "    </tr>\n",
       "    <tr>\n",
       "      <th>41351</th>\n",
       "      <td>61720  Mar-19: Initiative Media - APV- Made in Heaven RADIO campaign (#OgA4MHY) - Budgeted</td>\n",
       "      <td>Advertisement</td>\n",
       "    </tr>\n",
       "  </tbody>\n",
       "</table>\n",
       "</div>"
      ],
      "text/plain": [
       "                                                                                             Text  \\\n",
       "19773  61110 Towards Aug ART Collateral print and dispatch Jaipur                                   \n",
       "25671  60840 ;Batch<3024>/Line<5271>-45125904-Health Club-Employee FItness-Company                  \n",
       "3046   16999\\tTOWARDS PROJECT MANAGEMNT CABLING SERVICES TDS 194J-10%                               \n",
       "41351  61720  Mar-19: Initiative Media - APV- Made in Heaven RADIO campaign (#OgA4MHY) - Budgeted   \n",
       "\n",
       "               label  \n",
       "19773  Goods          \n",
       "25671  NonTaxable     \n",
       "3046   Professional   \n",
       "41351  Advertisement  "
      ]
     },
     "execution_count": 36,
     "metadata": {},
     "output_type": "execute_result"
    }
   ],
   "source": [
    "train.head(4)"
   ]
  },
  {
   "cell_type": "code",
   "execution_count": 37,
   "metadata": {},
   "outputs": [
    {
     "data": {
      "text/html": [
       "<div>\n",
       "<style scoped>\n",
       "    .dataframe tbody tr th:only-of-type {\n",
       "        vertical-align: middle;\n",
       "    }\n",
       "\n",
       "    .dataframe tbody tr th {\n",
       "        vertical-align: top;\n",
       "    }\n",
       "\n",
       "    .dataframe thead th {\n",
       "        text-align: right;\n",
       "    }\n",
       "</style>\n",
       "<table border=\"1\" class=\"dataframe\">\n",
       "  <thead>\n",
       "    <tr style=\"text-align: right;\">\n",
       "      <th></th>\n",
       "      <th>Text</th>\n",
       "      <th>label</th>\n",
       "    </tr>\n",
       "  </thead>\n",
       "  <tbody>\n",
       "    <tr>\n",
       "      <th>16821</th>\n",
       "      <td>14873\\tTOWARDS WOODEN PALLET HIRE CHARGES TDS 194I-2%</td>\n",
       "      <td>Rent_Ia</td>\n",
       "    </tr>\n",
       "    <tr>\n",
       "      <th>27172</th>\n",
       "      <td>20553 Refund for order: 406-1895653-0114735, sellerId 19696890935, amount 299.00 INR</td>\n",
       "      <td>NonTaxable</td>\n",
       "    </tr>\n",
       "    <tr>\n",
       "      <th>59914</th>\n",
       "      <td>66016 ;Batch&lt;3685&gt;/Line&lt;27502&gt;-55706402- Taxi-went to BRDD-Company</td>\n",
       "      <td>NonTaxable</td>\n",
       "    </tr>\n",
       "  </tbody>\n",
       "</table>\n",
       "</div>"
      ],
      "text/plain": [
       "                                                                                       Text  \\\n",
       "16821  14873\\tTOWARDS WOODEN PALLET HIRE CHARGES TDS 194I-2%                                  \n",
       "27172  20553 Refund for order: 406-1895653-0114735, sellerId 19696890935, amount 299.00 INR   \n",
       "59914  66016 ;Batch<3685>/Line<27502>-55706402- Taxi-went to BRDD-Company                     \n",
       "\n",
       "            label  \n",
       "16821  Rent_Ia     \n",
       "27172  NonTaxable  \n",
       "59914  NonTaxable  "
      ]
     },
     "execution_count": 37,
     "metadata": {},
     "output_type": "execute_result"
    }
   ],
   "source": [
    "test.head(3)"
   ]
  },
  {
   "cell_type": "code",
   "execution_count": 38,
   "metadata": {},
   "outputs": [],
   "source": [
    "!mkdir -p data\n",
    "train.to_csv(\"./data/train.csv\",index=False)\n",
    "test.to_csv(\"./data/test.csv\",index=False)"
   ]
  },
  {
   "cell_type": "markdown",
   "metadata": {},
   "source": [
    "The `transform_instance` will be applied to each data instance in parallel using python's multiprocessing module"
   ]
  },
  {
   "cell_type": "code",
   "execution_count": 39,
   "metadata": {
    "scrolled": true
   },
   "outputs": [
    {
     "name": "stderr",
     "output_type": "stream",
     "text": [
      "[nltk_data] Downloading package omw-1.4 to /root/nltk_data...\n",
      "[nltk_data]   Package omw-1.4 is already up-to-date!\n",
      "[nltk_data] Downloading package wordnet to /root/nltk_data...\n",
      "[nltk_data]   Package wordnet is already up-to-date!\n",
      "[nltk_data] Downloading package punkt to /root/nltk_data...\n",
      "[nltk_data]   Package punkt is already up-to-date!\n",
      "[nltk_data] Downloading package stopwords to /root/nltk_data...\n",
      "[nltk_data]   Package stopwords is already up-to-date!\n"
     ]
    },
    {
     "name": "stdout",
     "output_type": "stream",
     "text": [
      "CPU times: user 20.7 s, sys: 258 ms, total: 21 s\n",
      "Wall time: 27.8 s\n"
     ]
    }
   ],
   "source": [
    "%%time\n",
    "import preprocessing\n",
    "# Preparing the training dataset\n",
    "preprocessing.preprocess(\"data/train.csv\", \"icm.train\")\n",
    "\n",
    "# Preparing the validation dataset\n",
    "preprocessing.preprocess(\"data/test.csv\", \"icm.validation\")"
   ]
  },
  {
   "cell_type": "markdown",
   "metadata": {},
   "source": [
    "The data preprocessing cell might take a minute to run. After the data preprocessing is complete, we need to upload it to S3 so that it can be consumed by SageMaker to execute training jobs. We'll use Python SDK to upload these two files to the bucket and prefix location that we have set above.   "
   ]
  },
  {
   "cell_type": "code",
   "execution_count": 40,
   "metadata": {},
   "outputs": [
    {
     "name": "stdout",
     "output_type": "stream",
     "text": [
      "CPU times: user 86.3 ms, sys: 4.18 ms, total: 90.5 ms\n",
      "Wall time: 317 ms\n"
     ]
    }
   ],
   "source": [
    "%%time\n",
    "\n",
    "train_channel = prefix + \"/train\"\n",
    "validation_channel = prefix + \"/validation\"\n",
    "\n",
    "sess.upload_data(path=\"icm.train\", bucket=bucket, key_prefix=train_channel)\n",
    "sess.upload_data(path=\"icm.validation\", bucket=bucket, key_prefix=validation_channel)\n",
    "\n",
    "s3_train_data = \"s3://{}/{}\".format(bucket, train_channel)\n",
    "s3_validation_data = \"s3://{}/{}\".format(bucket, validation_channel)"
   ]
  },
  {
   "cell_type": "markdown",
   "metadata": {},
   "source": [
    "Next we need to setup an output location at S3, where the model artifact will be dumped. These artifacts are also the output of the algorithm's traning job."
   ]
  },
  {
   "cell_type": "code",
   "execution_count": 41,
   "metadata": {},
   "outputs": [],
   "source": [
    "s3_output_location = \"s3://{}/{}/output\".format(bucket, prefix)"
   ]
  },
  {
   "cell_type": "markdown",
   "metadata": {},
   "source": [
    "## Training\n",
    "Now that we are done with all the setup that is needed, we are ready to train our object detector. To begin, let us create a ``sageMaker.estimator.Estimator`` object. This estimator will launch the training job."
   ]
  },
  {
   "cell_type": "code",
   "execution_count": 42,
   "metadata": {},
   "outputs": [],
   "source": [
    "region_name = boto3.Session().region_name"
   ]
  },
  {
   "cell_type": "code",
   "execution_count": 43,
   "metadata": {},
   "outputs": [
    {
     "name": "stderr",
     "output_type": "stream",
     "text": [
      "The method get_image_uri has been renamed in sagemaker>=2.\n",
      "See: https://sagemaker.readthedocs.io/en/stable/v2.html for details.\n",
      "Defaulting to the only supported framework/algorithm version: 1. Ignoring framework/algorithm version: latest.\n"
     ]
    },
    {
     "name": "stdout",
     "output_type": "stream",
     "text": [
      "Using SageMaker BlazingText container: 433757028032.dkr.ecr.us-west-2.amazonaws.com/blazingtext:1 (us-west-2)\n"
     ]
    }
   ],
   "source": [
    "container = sagemaker.amazon.amazon_estimator.get_image_uri(region_name, \"blazingtext\", \"latest\")\n",
    "print(\"Using SageMaker BlazingText container: {} ({})\".format(container, region_name))"
   ]
  },
  {
   "cell_type": "markdown",
   "metadata": {},
   "source": [
    "## Training the BlazingText model for supervised text classification"
   ]
  },
  {
   "cell_type": "markdown",
   "metadata": {},
   "source": [
    "Similar to the original implementation of [Word2Vec](https://arxiv.org/pdf/1301.3781.pdf), SageMaker BlazingText provides an efficient implementation of the continuous bag-of-words (CBOW) and skip-gram architectures using Negative Sampling, on CPUs and additionally on GPU[s]. The GPU implementation uses highly optimized CUDA kernels. To learn more, please refer to [*BlazingText: Scaling and Accelerating Word2Vec using Multiple GPUs*](https://dl.acm.org/citation.cfm?doid=3146347.3146354).\n",
    "\n",
    "\n"
   ]
  },
  {
   "cell_type": "markdown",
   "metadata": {},
   "source": [
    "Besides skip-gram and CBOW, SageMaker BlazingText also supports the \"Batch Skipgram\" mode, which uses efficient mini-batching and matrix-matrix operations ([BLAS Level 3 routines](https://software.intel.com/en-us/mkl-developer-reference-fortran-blas-level-3-routines)). This mode enables distributed word2vec training across multiple CPU nodes, allowing almost linear scale up of word2vec computation to process hundreds of millions of words per second. Please refer to [*Parallelizing Word2Vec in Shared and Distributed Memory*](https://arxiv.org/pdf/1604.04661.pdf) to learn more."
   ]
  },
  {
   "cell_type": "markdown",
   "metadata": {},
   "source": [
    "BlazingText also supports a *supervised* mode for text classification. It extends the FastText text classifier to leverage GPU acceleration using custom CUDA kernels. The model can be trained on more than a billion words in a couple of minutes using a multi-core CPU or a GPU, while achieving performance on par with the state-of-the-art deep learning text classification algorithms. For more information, please refer to the [algorithm documentation](https://docs.aws.amazon.com/sagemaker/latest/dg/blazingtext.html)."
   ]
  },
  {
   "cell_type": "markdown",
   "metadata": {},
   "source": [
    "To summarize, the following modes are supported by BlazingText on different types instances:\n",
    "\n",
    "|          Modes         \t| cbow (supports subwords training) \t| skipgram (supports subwords training) \t| batch_skipgram \t| supervised |\n",
    "|:----------------------:\t|:----:\t|:--------:\t|:--------------:\t| :--------------:\t|\n",
    "|   Single CPU instance  \t|   ✔  \t|     ✔    \t|        ✔       \t|  ✔  |\n",
    "|   Single GPU instance  \t|   ✔  \t|     ✔    \t|                \t|  ✔ (Instance with 1 GPU only)  |\n",
    "| Multiple CPU instances \t|      \t|          \t|        ✔       \t|     | |\n",
    "\n",
    "Now, let's define the SageMaker `Estimator` with resource configurations and hyperparameters to train Text Classification on *DBPedia* dataset, using \"supervised\" mode on a `c4.4xlarge` instance.\n",
    "\n",
    "Refer to [BlazingText Hyperparameters](https://docs.aws.amazon.com/sagemaker/latest/dg/blazingtext_hyperparameters.html) in the Amazon SageMaker documentation for the complete list of hyperparameters."
   ]
  },
  {
   "cell_type": "code",
   "execution_count": 44,
   "metadata": {},
   "outputs": [],
   "source": [
    "bt_model = sagemaker.estimator.Estimator(\n",
    "    container,\n",
    "    role,\n",
    "    instance_count=1,\n",
    "    instance_type=\"ml.c4.4xlarge\",\n",
    "    volume_size=30,\n",
    "#     max_run=360000,\n",
    "    input_mode=\"File\",\n",
    "    output_path=s3_output_location,\n",
    "    hyperparameters={\n",
    "        \"mode\": \"supervised\",\n",
    "        \"epochs\": 7,\n",
    "#         \"min_count\": 2,\n",
    "        \"learning_rate\": 0.12,\n",
    "#         \"vector_dim\": 10,\n",
    "#         \"early_stopping\": True,\n",
    "#         \"patience\": 4,\n",
    "        \"min_epochs\": 5,\n",
    "        \"word_ngrams\": 2,\n",
    "    },\n",
    ")"
   ]
  },
  {
   "cell_type": "code",
   "execution_count": 45,
   "metadata": {},
   "outputs": [],
   "source": [
    "# Auto tune\n",
    "from sagemaker.tuner import (\n",
    "    IntegerParameter,\n",
    "    CategoricalParameter,\n",
    "    ContinuousParameter,\n",
    "    HyperparameterTuner,\n",
    ")\n",
    "\n",
    "hyperparameter_ranges = {\n",
    "    \"epochs\": IntegerParameter(10,45),\n",
    "#     \"batch_size\": IntegerParameter(8,32),\n",
    "    \"learning_rate\": ContinuousParameter(0.020, 0.300),\n",
    "#     \"window_size\": IntegerParameter(1, 10),\n",
    "    \"word_ngrams\": IntegerParameter(1,2),\n",
    "#     \"buckets\": IntegerParameter(1000000,10000000),\n",
    "#     \"min_count\": IntegerParameter(1,100)\n",
    "}\n",
    "\n",
    "objective_metric_name = \"validation:accuracy\"\n",
    "objective_type = \"Maximize\"\n",
    "\n",
    "tuner = HyperparameterTuner(\n",
    "    bt_model,\n",
    "    objective_metric_name,\n",
    "    hyperparameter_ranges,\n",
    "    max_jobs=6,\n",
    "    max_parallel_jobs=2,\n",
    "    objective_type=objective_type,\n",
    ")"
   ]
  },
  {
   "cell_type": "markdown",
   "metadata": {},
   "source": [
    "Now that the hyper-parameters are setup, let us prepare the handshake between our data channels and the algorithm. To do this, we need to create the `sagemaker.session.s3_input` objects from our data channels. These objects are then put in a simple dictionary, which the algorithm consumes."
   ]
  },
  {
   "cell_type": "code",
   "execution_count": 46,
   "metadata": {},
   "outputs": [],
   "source": [
    "train_data = sagemaker.inputs.TrainingInput(\n",
    "    s3_train_data,\n",
    "    distribution=\"FullyReplicated\",\n",
    "    content_type=\"text/plain\",\n",
    "    s3_data_type=\"S3Prefix\",\n",
    ")\n",
    "validation_data = sagemaker.inputs.TrainingInput(\n",
    "    s3_validation_data,\n",
    "    distribution=\"FullyReplicated\",\n",
    "    content_type=\"text/plain\",\n",
    "    s3_data_type=\"S3Prefix\",\n",
    ")\n",
    "data_channels = {\"train\": train_data, \"validation\": validation_data}"
   ]
  },
  {
   "cell_type": "markdown",
   "metadata": {},
   "source": [
    "We have our `Estimator` object, we have set the hyper-parameters for this object and we have our data channels linked with the algorithm. The only  remaining thing to do is to train the algorithm. The following command will train the algorithm. Training the algorithm involves a few steps. Firstly, the instance that we requested while creating the `Estimator` classes is provisioned and is setup with the appropriate libraries. Then, the data from our channels are downloaded into the instance. Once this is done, the training job begins. The provisioning and data downloading will take some time, depending on the size of the data. Therefore it might be a few minutes before we start getting training logs for our training jobs. The data logs will also print out Accuracy on the validation data for every epoch after training job has executed `min_epochs`. This metric is a proxy for the quality of the algorithm. \n",
    "\n",
    "Once the job has finished a \"Job complete\" message will be printed. The trained model can be found in the S3 bucket that was setup as `output_path` in the estimator."
   ]
  },
  {
   "cell_type": "markdown",
   "metadata": {},
   "source": [
    "### Launch hyperparameter tuning job\n",
    "\n",
    "Now we can launch a hyperparameter tuning job by calling fit() function. After the hyperparameter tuning job is created, we can go to SageMaker console to track the progress of the hyperparameter tuning job until it is completed.\n",
    "\n",
    "This should take around 12 minutes to complete.\n"
   ]
  },
  {
   "cell_type": "code",
   "execution_count": 47,
   "metadata": {},
   "outputs": [
    {
     "name": "stderr",
     "output_type": "stream",
     "text": [
      "No finished training job found associated with this estimator. Please make sure this estimator is only used for building workflow config\n",
      "No finished training job found associated with this estimator. Please make sure this estimator is only used for building workflow config\n"
     ]
    },
    {
     "name": "stdout",
     "output_type": "stream",
     "text": [
      ".....................................................................................................................................!\n",
      "CPU times: user 535 ms, sys: 70.3 ms, total: 605 ms\n",
      "Wall time: 11min 13s\n"
     ]
    }
   ],
   "source": [
    "%%time\n",
    "\n",
    "tuner.fit(inputs=data_channels, logs=True)"
   ]
  },
  {
   "cell_type": "markdown",
   "metadata": {},
   "source": [
    "\n",
    "### Analyze Results of a Hyperparameter Tuning job\n",
    "\n",
    "Once you have completed a tuning job, (or even while the job is still running) you can use the code below to analyze the results to understand how each hyperparameter effects the quality of the model.\n"
   ]
  },
  {
   "cell_type": "code",
   "execution_count": 48,
   "metadata": {},
   "outputs": [
    {
     "data": {
      "text/plain": [
       "'blazingtext-220601-1820'"
      ]
     },
     "execution_count": 48,
     "metadata": {},
     "output_type": "execute_result"
    }
   ],
   "source": [
    "sm_client = boto3.Session().client(\"sagemaker\")\n",
    "\n",
    "tuning_job_name = tuner.latest_tuning_job.name\n",
    "tuning_job_name"
   ]
  },
  {
   "cell_type": "markdown",
   "metadata": {},
   "source": [
    "### Track hyperparameter tuning job progress\n",
    "\n",
    "After you launch a tuning job, you can see its progress by calling describe_tuning_job API. The output from describe-tuning-job is a JSON object that contains information about the current state of the tuning job. You can call list_training_jobs_for_tuning_job to see a detailed list of the training jobs that the tuning job launched."
   ]
  },
  {
   "cell_type": "code",
   "execution_count": 49,
   "metadata": {},
   "outputs": [
    {
     "name": "stdout",
     "output_type": "stream",
     "text": [
      "6 training jobs have completed\n"
     ]
    }
   ],
   "source": [
    "tuning_job_result = sm_client.describe_hyper_parameter_tuning_job(\n",
    "    HyperParameterTuningJobName=tuning_job_name\n",
    ")\n",
    "\n",
    "status = tuning_job_result[\"HyperParameterTuningJobStatus\"]\n",
    "if status != \"Completed\":\n",
    "    print(\"Reminder: the tuning job has not been completed.\")\n",
    "\n",
    "job_count = tuning_job_result[\"TrainingJobStatusCounters\"][\"Completed\"]\n",
    "print(\"%d training jobs have completed\" % job_count)\n",
    "\n",
    "is_minimize = (\n",
    "    tuning_job_result[\"HyperParameterTuningJobConfig\"][\"HyperParameterTuningJobObjective\"][\"Type\"]\n",
    "    != \"Maximize\"\n",
    ")\n",
    "objective_name = tuning_job_result[\"HyperParameterTuningJobConfig\"][\n",
    "    \"HyperParameterTuningJobObjective\"\n",
    "][\"MetricName\"]"
   ]
  },
  {
   "cell_type": "code",
   "execution_count": 50,
   "metadata": {},
   "outputs": [
    {
     "name": "stdout",
     "output_type": "stream",
     "text": [
      "Best model found so far:\n",
      "{'CreationTime': datetime.datetime(2022, 6, 1, 18, 27, 42, tzinfo=tzlocal()),\n",
      " 'FinalHyperParameterTuningJobObjectiveMetric': {'MetricName': 'validation:accuracy',\n",
      "                                                 'Value': 0.964900016784668},\n",
      " 'ObjectiveStatus': 'Succeeded',\n",
      " 'TrainingEndTime': datetime.datetime(2022, 6, 1, 18, 31, 42, tzinfo=tzlocal()),\n",
      " 'TrainingJobArn': 'arn:aws:sagemaker:us-west-2:430758128697:training-job/blazingtext-220601-1820-005-036a40d9',\n",
      " 'TrainingJobName': 'blazingtext-220601-1820-005-036a40d9',\n",
      " 'TrainingJobStatus': 'Completed',\n",
      " 'TrainingStartTime': datetime.datetime(2022, 6, 1, 18, 29, 25, tzinfo=tzlocal()),\n",
      " 'TunedHyperParameters': {'epochs': '13',\n",
      "                          'learning_rate': '0.2878765151001413',\n",
      "                          'word_ngrams': '2'}}\n"
     ]
    }
   ],
   "source": [
    "from pprint import pprint\n",
    "\n",
    "if tuning_job_result.get(\"BestTrainingJob\", None):\n",
    "    print(\"Best model found so far:\")\n",
    "    pprint(tuning_job_result[\"BestTrainingJob\"])\n",
    "else:\n",
    "    print(\"No training jobs have reported results yet.\")"
   ]
  },
  {
   "cell_type": "markdown",
   "metadata": {},
   "source": [
    "#### We can list hyperparameters and objective metrics of all training jobs and pick up the training job with the best objective metric."
   ]
  },
  {
   "cell_type": "code",
   "execution_count": 51,
   "metadata": {},
   "outputs": [
    {
     "name": "stdout",
     "output_type": "stream",
     "text": [
      "Number of training jobs with valid objective: 6\n",
      "{'lowest': 0.9534000158309937, 'highest': 0.964900016784668}\n"
     ]
    },
    {
     "name": "stderr",
     "output_type": "stream",
     "text": [
      "/opt/conda/lib/python3.7/site-packages/ipykernel_launcher.py:13: FutureWarning: Passing a negative integer is deprecated in version 1.0 and will not be supported in future version. Instead, use None to not limit the column width.\n",
      "  del sys.path[0]\n"
     ]
    },
    {
     "data": {
      "text/html": [
       "<div>\n",
       "<style scoped>\n",
       "    .dataframe tbody tr th:only-of-type {\n",
       "        vertical-align: middle;\n",
       "    }\n",
       "\n",
       "    .dataframe tbody tr th {\n",
       "        vertical-align: top;\n",
       "    }\n",
       "\n",
       "    .dataframe thead th {\n",
       "        text-align: right;\n",
       "    }\n",
       "</style>\n",
       "<table border=\"1\" class=\"dataframe\">\n",
       "  <thead>\n",
       "    <tr style=\"text-align: right;\">\n",
       "      <th></th>\n",
       "      <th>epochs</th>\n",
       "      <th>learning_rate</th>\n",
       "      <th>word_ngrams</th>\n",
       "      <th>TrainingJobName</th>\n",
       "      <th>TrainingJobStatus</th>\n",
       "      <th>FinalObjectiveValue</th>\n",
       "      <th>TrainingStartTime</th>\n",
       "      <th>TrainingEndTime</th>\n",
       "      <th>TrainingElapsedTimeSeconds</th>\n",
       "    </tr>\n",
       "  </thead>\n",
       "  <tbody>\n",
       "    <tr>\n",
       "      <th>1</th>\n",
       "      <td>13.0</td>\n",
       "      <td>0.287877</td>\n",
       "      <td>2.0</td>\n",
       "      <td>blazingtext-220601-1820-005-036a40d9</td>\n",
       "      <td>Completed</td>\n",
       "      <td>0.9649</td>\n",
       "      <td>2022-06-01 18:29:25+00:00</td>\n",
       "      <td>2022-06-01 18:31:42+00:00</td>\n",
       "      <td>137.0</td>\n",
       "    </tr>\n",
       "    <tr>\n",
       "      <th>3</th>\n",
       "      <td>33.0</td>\n",
       "      <td>0.073748</td>\n",
       "      <td>2.0</td>\n",
       "      <td>blazingtext-220601-1820-003-67fcde4f</td>\n",
       "      <td>Completed</td>\n",
       "      <td>0.9649</td>\n",
       "      <td>2022-06-01 18:25:10+00:00</td>\n",
       "      <td>2022-06-01 18:27:22+00:00</td>\n",
       "      <td>132.0</td>\n",
       "    </tr>\n",
       "    <tr>\n",
       "      <th>5</th>\n",
       "      <td>31.0</td>\n",
       "      <td>0.081417</td>\n",
       "      <td>2.0</td>\n",
       "      <td>blazingtext-220601-1820-001-c003843c</td>\n",
       "      <td>Completed</td>\n",
       "      <td>0.9649</td>\n",
       "      <td>2022-06-01 18:22:31+00:00</td>\n",
       "      <td>2022-06-01 18:24:49+00:00</td>\n",
       "      <td>138.0</td>\n",
       "    </tr>\n",
       "    <tr>\n",
       "      <th>0</th>\n",
       "      <td>18.0</td>\n",
       "      <td>0.052974</td>\n",
       "      <td>1.0</td>\n",
       "      <td>blazingtext-220601-1820-006-d4832edb</td>\n",
       "      <td>Completed</td>\n",
       "      <td>0.9583</td>\n",
       "      <td>2022-06-01 18:29:24+00:00</td>\n",
       "      <td>2022-06-01 18:30:06+00:00</td>\n",
       "      <td>42.0</td>\n",
       "    </tr>\n",
       "    <tr>\n",
       "      <th>4</th>\n",
       "      <td>37.0</td>\n",
       "      <td>0.164153</td>\n",
       "      <td>1.0</td>\n",
       "      <td>blazingtext-220601-1820-002-be54cbf3</td>\n",
       "      <td>Completed</td>\n",
       "      <td>0.9551</td>\n",
       "      <td>2022-06-01 18:22:29+00:00</td>\n",
       "      <td>2022-06-01 18:23:16+00:00</td>\n",
       "      <td>47.0</td>\n",
       "    </tr>\n",
       "    <tr>\n",
       "      <th>2</th>\n",
       "      <td>41.0</td>\n",
       "      <td>0.072506</td>\n",
       "      <td>1.0</td>\n",
       "      <td>blazingtext-220601-1820-004-90148ee0</td>\n",
       "      <td>Completed</td>\n",
       "      <td>0.9534</td>\n",
       "      <td>2022-06-01 18:26:39+00:00</td>\n",
       "      <td>2022-06-01 18:27:26+00:00</td>\n",
       "      <td>47.0</td>\n",
       "    </tr>\n",
       "  </tbody>\n",
       "</table>\n",
       "</div>"
      ],
      "text/plain": [
       "   epochs  learning_rate  word_ngrams                       TrainingJobName  \\\n",
       "1  13.0    0.287877       2.0          blazingtext-220601-1820-005-036a40d9   \n",
       "3  33.0    0.073748       2.0          blazingtext-220601-1820-003-67fcde4f   \n",
       "5  31.0    0.081417       2.0          blazingtext-220601-1820-001-c003843c   \n",
       "0  18.0    0.052974       1.0          blazingtext-220601-1820-006-d4832edb   \n",
       "4  37.0    0.164153       1.0          blazingtext-220601-1820-002-be54cbf3   \n",
       "2  41.0    0.072506       1.0          blazingtext-220601-1820-004-90148ee0   \n",
       "\n",
       "  TrainingJobStatus  FinalObjectiveValue         TrainingStartTime  \\\n",
       "1  Completed         0.9649              2022-06-01 18:29:25+00:00   \n",
       "3  Completed         0.9649              2022-06-01 18:25:10+00:00   \n",
       "5  Completed         0.9649              2022-06-01 18:22:31+00:00   \n",
       "0  Completed         0.9583              2022-06-01 18:29:24+00:00   \n",
       "4  Completed         0.9551              2022-06-01 18:22:29+00:00   \n",
       "2  Completed         0.9534              2022-06-01 18:26:39+00:00   \n",
       "\n",
       "            TrainingEndTime  TrainingElapsedTimeSeconds  \n",
       "1 2022-06-01 18:31:42+00:00  137.0                       \n",
       "3 2022-06-01 18:27:22+00:00  132.0                       \n",
       "5 2022-06-01 18:24:49+00:00  138.0                       \n",
       "0 2022-06-01 18:30:06+00:00  42.0                        \n",
       "4 2022-06-01 18:23:16+00:00  47.0                        \n",
       "2 2022-06-01 18:27:26+00:00  47.0                        "
      ]
     },
     "execution_count": 51,
     "metadata": {},
     "output_type": "execute_result"
    }
   ],
   "source": [
    "import pandas as pd\n",
    "\n",
    "tuner_analytics = sagemaker.HyperparameterTuningJobAnalytics(tuning_job_name)\n",
    "\n",
    "full_df = tuner_analytics.dataframe()\n",
    "\n",
    "if len(full_df) > 0:\n",
    "    df = full_df[full_df[\"FinalObjectiveValue\"] > -float(\"inf\")]\n",
    "    if len(df) > 0:\n",
    "        df = df.sort_values(\"FinalObjectiveValue\", ascending=is_minimize)\n",
    "        print(\"Number of training jobs with valid objective: %d\" % len(df))\n",
    "        print({\"lowest\": min(df[\"FinalObjectiveValue\"]), \"highest\": max(df[\"FinalObjectiveValue\"])})\n",
    "        pd.set_option(\"display.max_colwidth\", -1)  # Don't truncate TrainingJobName\n",
    "    else:\n",
    "        print(\"No training jobs have reported valid results yet.\")\n",
    "\n",
    "df"
   ]
  },
  {
   "cell_type": "code",
   "execution_count": 52,
   "metadata": {},
   "outputs": [],
   "source": [
    "bt_model = sagemaker.estimator.Estimator(\n",
    "    container,\n",
    "    role,\n",
    "    instance_count=1,\n",
    "    instance_type=\"ml.c4.4xlarge\",\n",
    "    volume_size=30,\n",
    "#     max_run=360000,\n",
    "    input_mode=\"File\",\n",
    "    output_path=s3_output_location,\n",
    "    hyperparameters={\n",
    "        \"mode\": \"supervised\",\n",
    "        \"epochs\": 16,\n",
    "#         \"min_count\": 2,\n",
    "        \"learning_rate\": 0.06049598865396785,\n",
    "#         \"vector_dim\": 10,\n",
    "#         \"early_stopping\": True,\n",
    "#         \"patience\": 4,\n",
    "        \"min_epochs\": 5,\n",
    "        \"word_ngrams\": 2,\n",
    "    },\n",
    ")"
   ]
  },
  {
   "cell_type": "markdown",
   "metadata": {},
   "source": [
    "### Deploy the best trained model\n",
    "\n",
    "Once the training is done, we can deploy the trained model as an Amazon SageMaker real-time hosted endpoint. This will allow us to make predictions (or inference) from the model. Note that we don't have to host on the same type of instance that we used to train, because usually for inference, less compute power is needed than for training, and in addition, instance endpoints will be up and running for long, it's advisable to choose a cheaper instance for inference.\n",
    "\n",
    "    ml.c4.4xlarge - Compute Optimized instances are ideal for compute bound applications that benefit from high performance processors.\n",
    "    ml.m4.xlarge - General purpose instances provide a balance of compute, memory and networking resources, and can be used for a variety of diverse workloads.\n",
    "\n"
   ]
  },
  {
   "cell_type": "code",
   "execution_count": 53,
   "metadata": {},
   "outputs": [
    {
     "name": "stdout",
     "output_type": "stream",
     "text": [
      "\n",
      "2022-06-01 18:31:42 Starting - Preparing the instances for training\n",
      "2022-06-01 18:31:42 Downloading - Downloading input data\n",
      "2022-06-01 18:31:42 Training - Training image download completed. Training in progress.\n",
      "2022-06-01 18:31:42 Uploading - Uploading generated training model\n",
      "2022-06-01 18:31:42 Completed - Training job completed\n",
      "------!"
     ]
    }
   ],
   "source": [
    "from sagemaker.serializers import JSONSerializer\n",
    "\n",
    "text_classifier = tuner.deploy(\n",
    "    initial_instance_count=1, instance_type=\"ml.m4.xlarge\", serializer=JSONSerializer()\n",
    ")"
   ]
  },
  {
   "cell_type": "markdown",
   "metadata": {},
   "source": [
    "## Hosting / Inference\n",
    "Once the training is done, we can deploy the trained model as an Amazon SageMaker real-time hosted endpoint. This will allow us to make predictions (or inference) from the model. Note that we don't have to host on the same type of instance that we used to train. Because instance endpoints will be up and running for long, it's advisable to choose a cheaper instance for inference."
   ]
  },
  {
   "cell_type": "markdown",
   "metadata": {},
   "source": [
    "#### Use JSON format for inference\n",
    "BlazingText supports `application/json` as the content-type for inference. The payload should contain a list of sentences with the key as \"**instances**\" while being passed to the endpoint."
   ]
  },
  {
   "cell_type": "code",
   "execution_count": 54,
   "metadata": {},
   "outputs": [
    {
     "data": {
      "text/plain": [
       "[{'Intent': 'Technical', 'Intent_confidence': 87.72117495536804},\n",
       " {'Intent': 'Advertisement', 'Intent_confidence': 100.00004768371582},\n",
       " {'Intent': 'Advertisement', 'Intent_confidence': 96.89972996711731},\n",
       " {'Intent': 'Advertisement', 'Intent_confidence': 99.98526573181152},\n",
       " {'Intent': 'Advertisement', 'Intent_confidence': 99.99953508377075},\n",
       " {'Intent': 'Advertisement', 'Intent_confidence': 99.99761581420898},\n",
       " {'Intent': 'GeneralContractualServices',\n",
       "  'Intent_confidence': 38.53313624858856},\n",
       " {'Intent': 'Technical', 'Intent_confidence': 87.72117495536804},\n",
       " {'Intent': 'Goods', 'Intent_confidence': 92.15027093887329}]"
      ]
     },
     "execution_count": 54,
     "metadata": {},
     "output_type": "execute_result"
    }
   ],
   "source": [
    "sentences = [\n",
    "\"67410 [PC_INVOICE_LINE_ID: 50849626]Prione PO April - December 2019\",\n",
    "\"61410 Jan ART Specials Influencer campaign\",\n",
    "\"61110 Towards leaflets & Posters print for Van & Stores\",\n",
    "\"61410 Customer Assistance Campaign Measurement cost\",\n",
    "\"61410 PR for App Next - Seller App Marketing\",\n",
    "\"61730 Nov-19: Initiative - APV- Inside Edge2 TV Campaign (#OGA3IE2Y) - Budgeted\",\n",
    "\"14490 Labour charges for Maintenance & Testing of Oil Type,500 KVA ,22KV/433V ,Transformer are as following; a)Magnetic Balance Test. b)Ratio Test c)insulation Resistance Test.\",\n",
    "\"67410 [PC_INVOICE_LINE_ID: 50849626]Prione PO April - December 2019\",\n",
    "\"16999\tCold Aisle Containment modification to accommodate 1 rack per ro; Cold Aisle Containment modification to accommodate 1 rack per row from Row103 to Row118.\"\n",
    "]\n",
    "\n",
    "sentences = preprocessing.preprocess_line(sentences)\n",
    "payload = {\"instances\": sentences, \"configuration\": {\"k\": 1}}\n",
    "\n",
    "response = text_classifier.predict(payload)\n",
    "\n",
    "predictions = json.loads(response)\n",
    "# print(json.dumps(predictions, indent=2))\n",
    "listed = []\n",
    "for i in predictions:\n",
    "    listed.append({\"Intent\":i[\"label\"][0][9:],\"Intent_confidence\":i[\"prob\"][0]*100})\n",
    "\n",
    "listed\n",
    "\n"
   ]
  },
  {
   "cell_type": "code",
   "execution_count": 55,
   "metadata": {},
   "outputs": [
    {
     "name": "stdout",
     "output_type": "stream",
     "text": [
      "CPU times: user 519 ms, sys: 7.75 ms, total: 527 ms\n",
      "Wall time: 597 ms\n"
     ]
    }
   ],
   "source": [
    "%%time\n",
    "labels = test.label.to_list()\n",
    "sentences = preprocessing.preprocess_line(test.Text)\n",
    "payload = {\"instances\": sentences, \"configuration\": {\"k\": 1}}\n",
    "\n",
    "response = text_classifier.predict(payload)\n",
    "\n",
    "predictions_ = json.loads(response)\n",
    "pred = []\n",
    "for i in predictions_:\n",
    "    pred+= [i['label'][0][9:]]    \n",
    "\n",
    "# print(json.dumps(predictions_, indent=2))"
   ]
  },
  {
   "cell_type": "code",
   "execution_count": 56,
   "metadata": {},
   "outputs": [
    {
     "data": {
      "text/plain": [
       "['14873 towards wooden pallet hire charges tds 194i 2',\n",
       " '20553 refund order 406 1895653 0114735 sellerid 19696890935 amount 299 00 inr',\n",
       " '66016 batch 3685 line 27502 55706402 taxi went brdd company',\n",
       " '66010 vt192300022000020000036 batch 3495 line 602 52543941 hotel business trip curator kpp project company',\n",
       " '52105 add fund',\n",
       " '64530 batch 4330 line 2940 66588816 home internet company',\n",
       " '66010 vt200580019005190000126 batch 4341 line 2269 66971298 hotel business company',\n",
       " '64757 towards wooden aplelt charges tds 194i 2',\n",
       " '66010 vt192800022000280000101 batch 3742 line 10354 56943180 hotel tax ab mobile transition company',\n",
       " '28603 lease rent atspl del 17 ambience corporate tower 2 7th floor sft 3095 1st jan 19 31st dec 19']"
      ]
     },
     "execution_count": 56,
     "metadata": {},
     "output_type": "execute_result"
    }
   ],
   "source": [
    "sentences[:10]"
   ]
  },
  {
   "cell_type": "code",
   "execution_count": 57,
   "metadata": {},
   "outputs": [
    {
     "data": {
      "text/plain": [
       "(1224, 1224)"
      ]
     },
     "execution_count": 57,
     "metadata": {},
     "output_type": "execute_result"
    }
   ],
   "source": [
    "pred.__len__(),test.__len__()"
   ]
  },
  {
   "cell_type": "code",
   "execution_count": 58,
   "metadata": {},
   "outputs": [
    {
     "data": {
      "text/plain": [
       "(NonTaxable                    782\n",
       " Goods                         147\n",
       " Rent_Ia                       94 \n",
       " GeneralContractualServices    70 \n",
       " Rent_Ib                       52 \n",
       " Professional                  33 \n",
       " Transportation                25 \n",
       " Advertisement                 13 \n",
       " RoyaltyOther                  7  \n",
       " Royalty                       1  \n",
       " dtype: int64,\n",
       " NonTaxable                    779\n",
       " Goods                         153\n",
       " Rent_Ia                       98 \n",
       " GeneralContractualServices    70 \n",
       " Rent_Ib                       49 \n",
       " Professional                  30 \n",
       " Transportation                27 \n",
       " Advertisement                 10 \n",
       " RoyaltyOther                  7  \n",
       " Technical                     1  \n",
       " dtype: int64)"
      ]
     },
     "execution_count": 58,
     "metadata": {},
     "output_type": "execute_result"
    }
   ],
   "source": [
    "pd.Series(labels).value_counts(),pd.Series(pred).value_counts()"
   ]
  },
  {
   "cell_type": "code",
   "execution_count": 59,
   "metadata": {},
   "outputs": [
    {
     "data": {
      "text/plain": [
       "(1224, 1224)"
      ]
     },
     "execution_count": 59,
     "metadata": {},
     "output_type": "execute_result"
    }
   ],
   "source": [
    "len(labels),len(pred)"
   ]
  },
  {
   "cell_type": "code",
   "execution_count": 60,
   "metadata": {},
   "outputs": [],
   "source": [
    "df_confusion = pd.crosstab(pd.Series(labels),pd.Series(pred), rownames=['Actual'], colnames=['Predicted'], margins=True)"
   ]
  },
  {
   "cell_type": "code",
   "execution_count": 61,
   "metadata": {},
   "outputs": [],
   "source": [
    "import seaborn as sns\n",
    "import matplotlib.pyplot as plt\n",
    "plt.figure(figsize=(10,10))\n",
    "plt.title(\"Blazing Text Confusion Matrix\")\n",
    "sns.heatmap(df_confusion,annot=True,fmt='',cmap='Blues');"
   ]
  },
  {
   "cell_type": "code",
   "execution_count": 62,
   "metadata": {},
   "outputs": [
    {
     "name": "stdout",
     "output_type": "stream",
     "text": [
      "\t\tBlazing Text Report\n",
      "                             precision    recall  f1-score   support\n",
      "\n",
      "             Advertisement       1.00      0.77      0.87        13\n",
      "GeneralContractualServices       0.87      0.87      0.87        70\n",
      "                     Goods       0.92      0.95      0.93       147\n",
      "                NonTaxable       0.99      0.99      0.99       782\n",
      "              Professional       0.90      0.82      0.86        33\n",
      "                   Rent_Ia       0.94      0.98      0.96        94\n",
      "                   Rent_Ib       1.00      0.94      0.97        52\n",
      "                   Royalty       0.00      0.00      0.00         1\n",
      "              RoyaltyOther       0.86      0.86      0.86         7\n",
      "                 Technical       0.00      0.00      0.00         0\n",
      "            Transportation       0.85      0.92      0.88        25\n",
      "\n",
      "                  accuracy                           0.96      1224\n",
      "                 macro avg       0.76      0.74      0.74      1224\n",
      "              weighted avg       0.97      0.96      0.96      1224\n",
      "\n"
     ]
    },
    {
     "name": "stderr",
     "output_type": "stream",
     "text": [
      "/opt/conda/lib/python3.7/site-packages/sklearn/metrics/_classification.py:1272: UndefinedMetricWarning: Precision and F-score are ill-defined and being set to 0.0 in labels with no predicted samples. Use `zero_division` parameter to control this behavior.\n",
      "  _warn_prf(average, modifier, msg_start, len(result))\n",
      "/opt/conda/lib/python3.7/site-packages/sklearn/metrics/_classification.py:1272: UndefinedMetricWarning: Recall and F-score are ill-defined and being set to 0.0 in labels with no true samples. Use `zero_division` parameter to control this behavior.\n",
      "  _warn_prf(average, modifier, msg_start, len(result))\n"
     ]
    }
   ],
   "source": [
    "from sklearn.metrics import classification_report\n",
    "print(\"\\t\\tBlazing Text Report\\n\",classification_report(pd.Series(labels),pd.Series(pred)))"
   ]
  },
  {
   "cell_type": "markdown",
   "metadata": {},
   "source": [
    "### Stop / Close the Endpoint (Optional)\n",
    "Finally, we should delete the endpoint before we close the notebook if we don't need to keep the endpoint running for serving realtime predictions."
   ]
  },
  {
   "cell_type": "code",
   "execution_count": 64,
   "metadata": {},
   "outputs": [
    {
     "name": "stderr",
     "output_type": "stream",
     "text": [
      "The endpoint attribute has been renamed in sagemaker>=2.\n",
      "See: https://sagemaker.readthedocs.io/en/stable/v2.html for details.\n"
     ]
    },
    {
     "ename": "ClientError",
     "evalue": "An error occurred (ValidationException) when calling the DeleteEndpoint operation: Could not find endpoint \"arn:aws:sagemaker:us-west-2:430758128697:endpoint/blazingtext-220601-1820-005-036a40d9\".",
     "output_type": "error",
     "traceback": [
      "\u001b[0;31m---------------------------------------------------------------------------\u001b[0m",
      "\u001b[0;31mClientError\u001b[0m                               Traceback (most recent call last)",
      "\u001b[0;32m<ipython-input-64-9acf54e543fd>\u001b[0m in \u001b[0;36m<module>\u001b[0;34m\u001b[0m\n\u001b[0;32m----> 1\u001b[0;31m \u001b[0msess\u001b[0m\u001b[0;34m.\u001b[0m\u001b[0mdelete_endpoint\u001b[0m\u001b[0;34m(\u001b[0m\u001b[0mtext_classifier\u001b[0m\u001b[0;34m.\u001b[0m\u001b[0mendpoint\u001b[0m\u001b[0;34m)\u001b[0m\u001b[0;34m\u001b[0m\u001b[0;34m\u001b[0m\u001b[0m\n\u001b[0m",
      "\u001b[0;32m/opt/conda/lib/python3.7/site-packages/sagemaker/session.py\u001b[0m in \u001b[0;36mdelete_endpoint\u001b[0;34m(self, endpoint_name)\u001b[0m\n\u001b[1;32m   3128\u001b[0m         \"\"\"\n\u001b[1;32m   3129\u001b[0m         \u001b[0mLOGGER\u001b[0m\u001b[0;34m.\u001b[0m\u001b[0minfo\u001b[0m\u001b[0;34m(\u001b[0m\u001b[0;34m\"Deleting endpoint with name: %s\"\u001b[0m\u001b[0;34m,\u001b[0m \u001b[0mendpoint_name\u001b[0m\u001b[0;34m)\u001b[0m\u001b[0;34m\u001b[0m\u001b[0;34m\u001b[0m\u001b[0m\n\u001b[0;32m-> 3130\u001b[0;31m         \u001b[0mself\u001b[0m\u001b[0;34m.\u001b[0m\u001b[0msagemaker_client\u001b[0m\u001b[0;34m.\u001b[0m\u001b[0mdelete_endpoint\u001b[0m\u001b[0;34m(\u001b[0m\u001b[0mEndpointName\u001b[0m\u001b[0;34m=\u001b[0m\u001b[0mendpoint_name\u001b[0m\u001b[0;34m)\u001b[0m\u001b[0;34m\u001b[0m\u001b[0;34m\u001b[0m\u001b[0m\n\u001b[0m\u001b[1;32m   3131\u001b[0m \u001b[0;34m\u001b[0m\u001b[0m\n\u001b[1;32m   3132\u001b[0m     \u001b[0;32mdef\u001b[0m \u001b[0mdelete_endpoint_config\u001b[0m\u001b[0;34m(\u001b[0m\u001b[0mself\u001b[0m\u001b[0;34m,\u001b[0m \u001b[0mendpoint_config_name\u001b[0m\u001b[0;34m)\u001b[0m\u001b[0;34m:\u001b[0m\u001b[0;34m\u001b[0m\u001b[0;34m\u001b[0m\u001b[0m\n",
      "\u001b[0;32m/opt/conda/lib/python3.7/site-packages/botocore/client.py\u001b[0m in \u001b[0;36m_api_call\u001b[0;34m(self, *args, **kwargs)\u001b[0m\n\u001b[1;32m    413\u001b[0m                     \"%s() only accepts keyword arguments.\" % py_operation_name)\n\u001b[1;32m    414\u001b[0m             \u001b[0;31m# The \"self\" in this scope is referring to the BaseClient.\u001b[0m\u001b[0;34m\u001b[0m\u001b[0;34m\u001b[0m\u001b[0;34m\u001b[0m\u001b[0m\n\u001b[0;32m--> 415\u001b[0;31m             \u001b[0;32mreturn\u001b[0m \u001b[0mself\u001b[0m\u001b[0;34m.\u001b[0m\u001b[0m_make_api_call\u001b[0m\u001b[0;34m(\u001b[0m\u001b[0moperation_name\u001b[0m\u001b[0;34m,\u001b[0m \u001b[0mkwargs\u001b[0m\u001b[0;34m)\u001b[0m\u001b[0;34m\u001b[0m\u001b[0;34m\u001b[0m\u001b[0m\n\u001b[0m\u001b[1;32m    416\u001b[0m \u001b[0;34m\u001b[0m\u001b[0m\n\u001b[1;32m    417\u001b[0m         \u001b[0m_api_call\u001b[0m\u001b[0;34m.\u001b[0m\u001b[0m__name__\u001b[0m \u001b[0;34m=\u001b[0m \u001b[0mstr\u001b[0m\u001b[0;34m(\u001b[0m\u001b[0mpy_operation_name\u001b[0m\u001b[0;34m)\u001b[0m\u001b[0;34m\u001b[0m\u001b[0;34m\u001b[0m\u001b[0m\n",
      "\u001b[0;32m/opt/conda/lib/python3.7/site-packages/botocore/client.py\u001b[0m in \u001b[0;36m_make_api_call\u001b[0;34m(self, operation_name, api_params)\u001b[0m\n\u001b[1;32m    743\u001b[0m             \u001b[0merror_code\u001b[0m \u001b[0;34m=\u001b[0m \u001b[0mparsed_response\u001b[0m\u001b[0;34m.\u001b[0m\u001b[0mget\u001b[0m\u001b[0;34m(\u001b[0m\u001b[0;34m\"Error\"\u001b[0m\u001b[0;34m,\u001b[0m \u001b[0;34m{\u001b[0m\u001b[0;34m}\u001b[0m\u001b[0;34m)\u001b[0m\u001b[0;34m.\u001b[0m\u001b[0mget\u001b[0m\u001b[0;34m(\u001b[0m\u001b[0;34m\"Code\"\u001b[0m\u001b[0;34m)\u001b[0m\u001b[0;34m\u001b[0m\u001b[0;34m\u001b[0m\u001b[0m\n\u001b[1;32m    744\u001b[0m             \u001b[0merror_class\u001b[0m \u001b[0;34m=\u001b[0m \u001b[0mself\u001b[0m\u001b[0;34m.\u001b[0m\u001b[0mexceptions\u001b[0m\u001b[0;34m.\u001b[0m\u001b[0mfrom_code\u001b[0m\u001b[0;34m(\u001b[0m\u001b[0merror_code\u001b[0m\u001b[0;34m)\u001b[0m\u001b[0;34m\u001b[0m\u001b[0;34m\u001b[0m\u001b[0m\n\u001b[0;32m--> 745\u001b[0;31m             \u001b[0;32mraise\u001b[0m \u001b[0merror_class\u001b[0m\u001b[0;34m(\u001b[0m\u001b[0mparsed_response\u001b[0m\u001b[0;34m,\u001b[0m \u001b[0moperation_name\u001b[0m\u001b[0;34m)\u001b[0m\u001b[0;34m\u001b[0m\u001b[0;34m\u001b[0m\u001b[0m\n\u001b[0m\u001b[1;32m    746\u001b[0m         \u001b[0;32melse\u001b[0m\u001b[0;34m:\u001b[0m\u001b[0;34m\u001b[0m\u001b[0;34m\u001b[0m\u001b[0m\n\u001b[1;32m    747\u001b[0m             \u001b[0;32mreturn\u001b[0m \u001b[0mparsed_response\u001b[0m\u001b[0;34m\u001b[0m\u001b[0;34m\u001b[0m\u001b[0m\n",
      "\u001b[0;31mClientError\u001b[0m: An error occurred (ValidationException) when calling the DeleteEndpoint operation: Could not find endpoint \"arn:aws:sagemaker:us-west-2:430758128697:endpoint/blazingtext-220601-1820-005-036a40d9\"."
     ]
    }
   ],
   "source": [
    "sess.delete_endpoint(text_classifier.endpoint)"
   ]
  },
  {
   "cell_type": "code",
   "execution_count": null,
   "metadata": {},
   "outputs": [],
   "source": []
  }
 ],
 "metadata": {
  "instance_type": "ml.t3.medium",
  "kernelspec": {
   "display_name": "Python 3 (Data Science)",
   "language": "python",
   "name": "python3__SAGEMAKER_INTERNAL__arn:aws:sagemaker:us-west-2:236514542706:image/datascience-1.0"
  },
  "language_info": {
   "codemirror_mode": {
    "name": "ipython",
    "version": 3
   },
   "file_extension": ".py",
   "mimetype": "text/x-python",
   "name": "python",
   "nbconvert_exporter": "python",
   "pygments_lexer": "ipython3",
   "version": "3.7.10"
  },
  "notice": "Copyright 2018 Amazon.com, Inc. or its affiliates. All Rights Reserved.  Licensed under the Apache License, Version 2.0 (the \"License\"). You may not use this file except in compliance with the License. A copy of the License is located at http://aws.amazon.com/apache2.0/ or in the \"license\" file accompanying this file. This file is distributed on an \"AS IS\" BASIS, WITHOUT WARRANTIES OR CONDITIONS OF ANY KIND, either express or implied. See the License for the specific language governing permissions and limitations under the License."
 },
 "nbformat": 4,
 "nbformat_minor": 4
}
